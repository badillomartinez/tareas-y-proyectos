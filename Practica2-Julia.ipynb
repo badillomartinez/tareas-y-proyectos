{
 "cells": [
  {
   "cell_type": "markdown",
   "metadata": {},
   "source": [
    "# <font color=purple>Práctica 2 de Análisis Numérico </font>\n",
    "\n",
    "## <font color=purple> Interpolación y Reglas de Cuadratura</font>"
   ]
  },
  {
   "cell_type": "markdown",
   "metadata": {},
   "source": [
    "### Nombre de los integrantes"
   ]
  },
  {
   "cell_type": "markdown",
   "metadata": {},
   "source": [
    "## Ejercicio 1  $\\quad$   <font color = blue>*HistoSpline*</font>"
   ]
  },
  {
   "cell_type": "markdown",
   "metadata": {},
   "source": [
    "Considera la siguiente tabla con las frecuencias absolutas\n",
    "de una variable aleatoria\n",
    "\n",
    "$$\\begin{array}{lr} \n",
    " \\text{intervalo} & \\text{frecuencia} \\\\\n",
    " & \\text{absoluta} \\\\\n",
    " [-3.5,-3] & 3 \\\\\n",
    " [-3,-2.5] & 6 \\\\\n",
    " [-2.5,-2] & 31 \\\\\n",
    " [-2,-1.5] & 80 \\\\\n",
    " [-1.5,-1] & 192 \\\\\n",
    " [-1,-0.5] & 325 \\\\\n",
    " [-0.5,0]  & 382 \\\\\n",
    " [0,0.5]   & 392 \\\\\n",
    " [0.5,1]   & 308 \\\\\n",
    " [1,1.5]   & 155 \\\\\n",
    " [1.5,2]   & 86 \\\\\n",
    " [2,2.5]   & 32 \\\\\n",
    " [2.5,3]   & 6 \\\\\n",
    " [3,3.5]   & 2 \\\\\n",
    " \\end{array}$$"
   ]
  },
  {
   "cell_type": "code",
   "execution_count": 1,
   "metadata": {},
   "outputs": [
    {
     "data": {
      "text/html": [
       "<table class=\"data-frame\"><thead><tr><th></th><th>Inferior</th><th>Superior</th><th>Frecuencia_abs</th></tr></thead><tbody><tr><th>1</th><td>-3.5</td><td>-3.0</td><td>3.0</td></tr><tr><th>2</th><td>-3.0</td><td>-2.5</td><td>6.0</td></tr><tr><th>3</th><td>-2.5</td><td>-2.0</td><td>31.0</td></tr><tr><th>4</th><td>-2.0</td><td>-1.5</td><td>80.0</td></tr><tr><th>5</th><td>-1.5</td><td>-1.0</td><td>192.0</td></tr><tr><th>6</th><td>-1.0</td><td>-0.5</td><td>325.0</td></tr><tr><th>7</th><td>-0.5</td><td>0.0</td><td>382.0</td></tr><tr><th>8</th><td>0.0</td><td>0.5</td><td>392.0</td></tr><tr><th>9</th><td>0.5</td><td>1.0</td><td>308.0</td></tr><tr><th>10</th><td>1.0</td><td>1.5</td><td>155.0</td></tr><tr><th>11</th><td>1.5</td><td>2.0</td><td>86.0</td></tr><tr><th>12</th><td>2.0</td><td>2.5</td><td>32.0</td></tr><tr><th>13</th><td>2.5</td><td>3.0</td><td>6.0</td></tr><tr><th>14</th><td>3.0</td><td>3.5</td><td>2.0</td></tr></tbody></table>"
      ],
      "text/plain": [
       "14×3 DataFrames.DataFrame\n",
       "│ Row │ Inferior │ Superior │ Frecuencia_abs │\n",
       "├─────┼──────────┼──────────┼────────────────┤\n",
       "│ 1   │ -3.5     │ -3.0     │ 3.0            │\n",
       "│ 2   │ -3.0     │ -2.5     │ 6.0            │\n",
       "│ 3   │ -2.5     │ -2.0     │ 31.0           │\n",
       "│ 4   │ -2.0     │ -1.5     │ 80.0           │\n",
       "│ 5   │ -1.5     │ -1.0     │ 192.0          │\n",
       "│ 6   │ -1.0     │ -0.5     │ 325.0          │\n",
       "│ 7   │ -0.5     │ 0.0      │ 382.0          │\n",
       "│ 8   │ 0.0      │ 0.5      │ 392.0          │\n",
       "│ 9   │ 0.5      │ 1.0      │ 308.0          │\n",
       "│ 10  │ 1.0      │ 1.5      │ 155.0          │\n",
       "│ 11  │ 1.5      │ 2.0      │ 86.0           │\n",
       "│ 12  │ 2.0      │ 2.5      │ 32.0           │\n",
       "│ 13  │ 2.5      │ 3.0      │ 6.0            │\n",
       "│ 14  │ 3.0      │ 3.5      │ 2.0            │"
      ]
     },
     "execution_count": 1,
     "metadata": {},
     "output_type": "execute_result"
    }
   ],
   "source": [
    "using DataFrames ##Primero como buen R-Dependiente acomodamos los datos en un DataFrame\n",
    "Frecuencias=[3, 6, 31, 80, 192, 325, 382, 392, 308, 155, 86, 32, 6, 2]\n",
    "Infs=[-3.5+0.5(i) for i in 0:13]\n",
    "datos=[Infs Infs+0.5 Frecuencias] \n",
    "Dat_datos=convert(DataFrame, datos)\n",
    "rename!(Dat_datos, f => t for (f, t) = zip([:x1, :x2, :x3], [:Inferior, :Superior, :Frecuencia_abs]))"
   ]
  },
  {
   "cell_type": "markdown",
   "metadata": {},
   "source": [
    "### 1a\n",
    "\n",
    "Dibuja el histograma de frecuencias relativas usando lo siguiente:\n",
    "\n",
    "frecuencia relativa en intervalo = $\\dfrac{\\text{núm de observaciones en intervalo}}{\\text{total de observaciones}}$\n",
    "\n",
    "Altura de barra en intervalo = $\\dfrac{\\text{frecuencia relativa}}{\\text{longitud de intervalo}}$\n",
    "\n",
    "su histograma debe quedar como se muestra en la siguiente figura \n",
    "\n",
    "<img src=\"histograma_muestra.png\">"
   ]
  },
  {
   "cell_type": "code",
   "execution_count": 2,
   "metadata": {},
   "outputs": [
    {
     "data": {
      "text/html": [
       "<table class=\"data-frame\"><thead><tr><th></th><th>Inferior</th><th>Superior</th><th>Frecuencia_abs</th><th>Frecuencia_rel</th></tr></thead><tbody><tr><th>1</th><td>-3.5</td><td>-3.0</td><td>3.0</td><td>0.0015</td></tr><tr><th>2</th><td>-3.0</td><td>-2.5</td><td>6.0</td><td>0.003</td></tr><tr><th>3</th><td>-2.5</td><td>-2.0</td><td>31.0</td><td>0.0155</td></tr><tr><th>4</th><td>-2.0</td><td>-1.5</td><td>80.0</td><td>0.04</td></tr><tr><th>5</th><td>-1.5</td><td>-1.0</td><td>192.0</td><td>0.096</td></tr><tr><th>6</th><td>-1.0</td><td>-0.5</td><td>325.0</td><td>0.1625</td></tr><tr><th>7</th><td>-0.5</td><td>0.0</td><td>382.0</td><td>0.191</td></tr><tr><th>8</th><td>0.0</td><td>0.5</td><td>392.0</td><td>0.196</td></tr><tr><th>9</th><td>0.5</td><td>1.0</td><td>308.0</td><td>0.154</td></tr><tr><th>10</th><td>1.0</td><td>1.5</td><td>155.0</td><td>0.0775</td></tr><tr><th>11</th><td>1.5</td><td>2.0</td><td>86.0</td><td>0.043</td></tr><tr><th>12</th><td>2.0</td><td>2.5</td><td>32.0</td><td>0.016</td></tr><tr><th>13</th><td>2.5</td><td>3.0</td><td>6.0</td><td>0.003</td></tr><tr><th>14</th><td>3.0</td><td>3.5</td><td>2.0</td><td>0.001</td></tr></tbody></table>"
      ],
      "text/plain": [
       "14×4 DataFrames.DataFrame\n",
       "│ Row │ Inferior │ Superior │ Frecuencia_abs │ Frecuencia_rel │\n",
       "├─────┼──────────┼──────────┼────────────────┼────────────────┤\n",
       "│ 1   │ -3.5     │ -3.0     │ 3.0            │ 0.0015         │\n",
       "│ 2   │ -3.0     │ -2.5     │ 6.0            │ 0.003          │\n",
       "│ 3   │ -2.5     │ -2.0     │ 31.0           │ 0.0155         │\n",
       "│ 4   │ -2.0     │ -1.5     │ 80.0           │ 0.04           │\n",
       "│ 5   │ -1.5     │ -1.0     │ 192.0          │ 0.096          │\n",
       "│ 6   │ -1.0     │ -0.5     │ 325.0          │ 0.1625         │\n",
       "│ 7   │ -0.5     │ 0.0      │ 382.0          │ 0.191          │\n",
       "│ 8   │ 0.0      │ 0.5      │ 392.0          │ 0.196          │\n",
       "│ 9   │ 0.5      │ 1.0      │ 308.0          │ 0.154          │\n",
       "│ 10  │ 1.0      │ 1.5      │ 155.0          │ 0.0775         │\n",
       "│ 11  │ 1.5      │ 2.0      │ 86.0           │ 0.043          │\n",
       "│ 12  │ 2.0      │ 2.5      │ 32.0           │ 0.016          │\n",
       "│ 13  │ 2.5      │ 3.0      │ 6.0            │ 0.003          │\n",
       "│ 14  │ 3.0      │ 3.5      │ 2.0            │ 0.001          │"
      ]
     },
     "execution_count": 2,
     "metadata": {},
     "output_type": "execute_result"
    }
   ],
   "source": [
    "#Primero obtenemos el total de observaciones:\n",
    "Total_obs=sum(Dat_datos[:Frecuencia_abs])\n",
    "##Añadimos la columna Frecuencia Relativa\n",
    "Dat_datos[:Frecuencia_rel]=Dat_datos[:Frecuencia_abs]/Total_obs\n",
    "Dat_datos"
   ]
  },
  {
   "cell_type": "code",
   "execution_count": 65,
   "metadata": {},
   "outputs": [
    {
     "data": {
      "application/vnd.plotly.v1+json": {
       "data": [
        {
         "colorbar": {
          "title": ""
         },
         "line": {
          "color": "rgba(0, 154, 250, 1.000)",
          "dash": "solid",
          "shape": "linear",
          "width": 1
         },
         "mode": "lines",
         "name": "y1",
         "showlegend": true,
         "type": "scatter",
         "x": [
          -3,
          -2.5,
          -2,
          -1.5,
          -1,
          -0.5,
          0,
          0.5,
          1,
          1.5,
          2,
          2.5,
          3,
          3.5
         ],
         "xaxis": "x1",
         "y": [
          0.003,
          0.006,
          0.031,
          0.08,
          0.192,
          0.325,
          0.382,
          0.392,
          0.308,
          0.155,
          0.086,
          0.032,
          0.006,
          0.002
         ],
         "yaxis": "y1"
        }
       ],
       "layout": {
        "annotations": [],
        "height": 400,
        "legend": {
         "bgcolor": "rgba(255, 255, 255, 1.000)",
         "bordercolor": "rgba(0, 0, 0, 1.000)",
         "font": {
          "color": "rgba(0, 0, 0, 1.000)",
          "family": "sans-serif",
          "size": 11
         },
         "x": 1,
         "y": 1
        },
        "margin": {
         "b": 20,
         "l": 0,
         "r": 0,
         "t": 20
        },
        "paper_bgcolor": "rgba(255, 255, 255, 1.000)",
        "plot_bgcolor": "rgba(255, 255, 255, 1.000)",
        "showlegend": true,
        "width": 600,
        "xaxis1": {
         "anchor": "y1",
         "domain": [
          0.0658209390492855,
          0.9934383202099738
         ],
         "gridcolor": "rgba(0, 0, 0, 0.100)",
         "gridwidth": 0.5,
         "linecolor": "rgba(0, 0, 0, 1.000)",
         "mirror": false,
         "range": [
          -3,
          3.5
         ],
         "showgrid": true,
         "showline": true,
         "showticklabels": true,
         "tickangle": 0,
         "tickcolor": "rgb(0, 0, 0)",
         "tickfont": {
          "color": "rgba(0, 0, 0, 1.000)",
          "family": "sans-serif",
          "size": 11
         },
         "tickmode": "array",
         "ticks": "inside",
         "ticktext": [
          "-3",
          "-2",
          "-1",
          "0",
          "1",
          "2",
          "3"
         ],
         "tickvals": [
          -3,
          -2,
          -1,
          0,
          1,
          2,
          3
         ],
         "title": "",
         "titlefont": {
          "color": "rgba(0, 0, 0, 1.000)",
          "family": "sans-serif",
          "size": 15
         },
         "type": "-",
         "visible": true,
         "zeroline": false,
         "zerolinecolor": "rgba(0, 0, 0, 1.000)"
        },
        "yaxis1": {
         "anchor": "x1",
         "domain": [
          0.03762029746281716,
          0.9901574803149606
         ],
         "gridcolor": "rgba(0, 0, 0, 0.100)",
         "gridwidth": 0.5,
         "linecolor": "rgba(0, 0, 0, 1.000)",
         "mirror": false,
         "range": [
          0.002,
          0.392
         ],
         "showgrid": true,
         "showline": true,
         "showticklabels": true,
         "tickangle": 0,
         "tickcolor": "rgb(0, 0, 0)",
         "tickfont": {
          "color": "rgba(0, 0, 0, 1.000)",
          "family": "sans-serif",
          "size": 11
         },
         "tickmode": "array",
         "ticks": "inside",
         "ticktext": [
          "0.05",
          "0.10",
          "0.15",
          "0.20",
          "0.25",
          "0.30",
          "0.35"
         ],
         "tickvals": [
          0.05,
          0.1,
          0.15000000000000002,
          0.2,
          0.25,
          0.30000000000000004,
          0.35000000000000003
         ],
         "title": "",
         "titlefont": {
          "color": "rgba(0, 0, 0, 1.000)",
          "family": "sans-serif",
          "size": 15
         },
         "type": "-",
         "visible": true,
         "zeroline": false,
         "zerolinecolor": "rgba(0, 0, 0, 1.000)"
        }
       }
      },
      "text/html": [
       "<script src=\"file://D:\\Archivos de Programa\\Julia Pro\\pkgs-0.6.2.2\\v0.6\\Plots\\src\\backends\\..\\..\\deps\\plotly-latest.min.js\"></script>    <div id=\"081f1c28-04f5-4679-aab5-72bd511f147b\" style=\"width:600px;height:400px;\"></div>\n",
       "    <script>\n",
       "    PLOT = document.getElementById('081f1c28-04f5-4679-aab5-72bd511f147b');\n",
       "    Plotly.plot(PLOT, [{\"showlegend\":true,\"mode\":\"lines\",\"xaxis\":\"x1\",\"colorbar\":{\"title\":\"\"},\"line\":{\"color\":\"rgba(0, 154, 250, 1.000)\",\"shape\":\"linear\",\"dash\":\"solid\",\"width\":1},\"y\":[0.003,0.006,0.031,0.08,0.192,0.325,0.382,0.392,0.308,0.155,0.086,0.032,0.006,0.002],\"type\":\"scatter\",\"name\":\"y1\",\"yaxis\":\"y1\",\"x\":[-3.0,-2.5,-2.0,-1.5,-1.0,-0.5,0.0,0.5,1.0,1.5,2.0,2.5,3.0,3.5]}], {\"showlegend\":true,\"paper_bgcolor\":\"rgba(255, 255, 255, 1.000)\",\"xaxis1\":{\"showticklabels\":true,\"gridwidth\":0.5,\"tickvals\":[-3.0,-2.0,-1.0,0.0,1.0,2.0,3.0],\"visible\":true,\"ticks\":\"inside\",\"range\":[-3.0,3.5],\"domain\":[0.0658209390492855,0.9934383202099738],\"tickmode\":\"array\",\"linecolor\":\"rgba(0, 0, 0, 1.000)\",\"showgrid\":true,\"title\":\"\",\"mirror\":false,\"tickangle\":0,\"showline\":true,\"gridcolor\":\"rgba(0, 0, 0, 0.100)\",\"titlefont\":{\"color\":\"rgba(0, 0, 0, 1.000)\",\"family\":\"sans-serif\",\"size\":15},\"tickcolor\":\"rgb(0, 0, 0)\",\"ticktext\":[\"-3\",\"-2\",\"-1\",\"0\",\"1\",\"2\",\"3\"],\"zeroline\":false,\"type\":\"-\",\"tickfont\":{\"color\":\"rgba(0, 0, 0, 1.000)\",\"family\":\"sans-serif\",\"size\":11},\"zerolinecolor\":\"rgba(0, 0, 0, 1.000)\",\"anchor\":\"y1\"},\"annotations\":[],\"height\":400,\"margin\":{\"l\":0,\"b\":20,\"r\":0,\"t\":20},\"plot_bgcolor\":\"rgba(255, 255, 255, 1.000)\",\"yaxis1\":{\"showticklabels\":true,\"gridwidth\":0.5,\"tickvals\":[0.05,0.1,0.15000000000000002,0.2,0.25,0.30000000000000004,0.35000000000000003],\"visible\":true,\"ticks\":\"inside\",\"range\":[0.002,0.392],\"domain\":[0.03762029746281716,0.9901574803149606],\"tickmode\":\"array\",\"linecolor\":\"rgba(0, 0, 0, 1.000)\",\"showgrid\":true,\"title\":\"\",\"mirror\":false,\"tickangle\":0,\"showline\":true,\"gridcolor\":\"rgba(0, 0, 0, 0.100)\",\"titlefont\":{\"color\":\"rgba(0, 0, 0, 1.000)\",\"family\":\"sans-serif\",\"size\":15},\"tickcolor\":\"rgb(0, 0, 0)\",\"ticktext\":[\"0.05\",\"0.10\",\"0.15\",\"0.20\",\"0.25\",\"0.30\",\"0.35\"],\"zeroline\":false,\"type\":\"-\",\"tickfont\":{\"color\":\"rgba(0, 0, 0, 1.000)\",\"family\":\"sans-serif\",\"size\":11},\"zerolinecolor\":\"rgba(0, 0, 0, 1.000)\",\"anchor\":\"x1\"},\"legend\":{\"bordercolor\":\"rgba(0, 0, 0, 1.000)\",\"bgcolor\":\"rgba(255, 255, 255, 1.000)\",\"font\":{\"color\":\"rgba(0, 0, 0, 1.000)\",\"family\":\"sans-serif\",\"size\":11},\"y\":1.0,\"x\":1.0},\"width\":600});\n",
       "    </script>\n"
      ]
     },
     "execution_count": 65,
     "metadata": {},
     "output_type": "execute_result"
    }
   ],
   "source": [
    "##Como no nos interesa la altura para nuestra tabla(en el supuesto de que este documento fuera para fines laborales o de divulgación)\n",
    "##Crearemos un arreglo con las alturas\n",
    "Alturas=Dat_datos[:Frecuencia_rel]/0.5\n",
    "using Interact, Plots\n",
    "plotly()\n",
    "plot(Dat_datos[:Superior], Alturas)"
   ]
  },
  {
   "cell_type": "markdown",
   "metadata": {},
   "source": [
    "### 1b\n",
    "\n",
    "Si el tamaño de los intervalos tiende a cero y tenemos sufientes muestras,entonces el histograma se aproxima a una campana gaussiana tal y como se muestra en la figura. <img src=\"campana_gaussiana.png\">"
   ]
  },
  {
   "cell_type": "markdown",
   "metadata": {},
   "source": [
    "Queremos aproximar la campana gaussiana mediante un spline cuadrático \n",
    "$$\n",
    "S(x) =\n",
    "\\begin{cases}\n",
    " c_0(x), & x_0\\leq x\\leq x_1\\\\ \n",
    "  \\vdots & \\\\\n",
    " c_{14}(x), & x_{14}\\leq x\\leq x_{15}\\\\  \n",
    "\\end{cases}\n",
    "$$\n",
    "de modo que \n",
    "\n",
    "> $\\begin{array}{c} \n",
    "   \\text{área bajo gráfica de }S(x) \\\\ \\text{de nodo }i \\text{ a nodo }i+1 \n",
    "  \\end{array}\n",
    "  \\quad = \\quad\n",
    "  \\begin{array}{c} \n",
    "   \\text{área de barra} \\\\ \\text{de nodo }i \\text{ a nodo }i+1\n",
    "   \\end{array}$"
   ]
  },
  {
   "cell_type": "markdown",
   "metadata": {},
   "source": [
    "Para ello, el Spline en el intervalo $[x_i,x_{i+1}]$ se expresa como\n",
    "\n",
    "$$\\begin{array}{llll}\n",
    "c_i(x) & = &   & S(x_i)(1-y_i)(1-3y_i) \\\\\n",
    "       &   & + & S(x_{i+1})y_i(3y_i-2) \\\\\n",
    "       &   & + & 6h_iy_i(1-y_i),\n",
    "\\end{array}$$\n",
    "\n",
    "donde\n",
    "\n",
    "$w_i$ es el ancho de barra en intervalo $[x_i,x_{i+1}]$\n",
    "\n",
    "$h_i$ es la altura de barra en intervalo $[x_i,x_{i+1}]$\n",
    "\n",
    "$y_i=\\dfrac{x-x_i}{w_i}$\n",
    "\n"
   ]
  },
  {
   "cell_type": "markdown",
   "metadata": {},
   "source": [
    "**Las incógnitas son $S(x_0),S(x_1),\\dots,S(x_{14})$**\n",
    "\n",
    "Tome $S'(x_0)=S'(x_{14})=0$. Use la continuidad de la derivada \n",
    "del spline en nodos interiores para formar el sistema de ecuaciones lineales\n",
    "\n",
    "$T\n",
    "\\begin{pmatrix}\n",
    " S(x_0) \\\\ S(x_1) \\\\ \\vdots \\\\ S(x_{13}) \\\\S(x_{14})\n",
    "\\end{pmatrix} =\n",
    "\\begin{pmatrix}\n",
    " 3h_0 \\\\ 3/2(h_0+h_1) \\\\ \\vdots \\\\ 3/2(h_{13}+h_{14}) \\\\ 3h_{14}\n",
    "\\end{pmatrix}, \\qquad T\\ \\text{tridiagonal } 15\\times 15$"
   ]
  },
  {
   "cell_type": "markdown",
   "metadata": {},
   "source": [
    "Muestre la matriz $T$ usado comandos de Julia"
   ]
  },
  {
   "cell_type": "code",
   "execution_count": null,
   "metadata": {},
   "outputs": [],
   "source": []
  },
  {
   "cell_type": "markdown",
   "metadata": {},
   "source": [
    "¿puede usar la Factorización de cholesky para resolver el sistema? Explique su respuesta"
   ]
  },
  {
   "cell_type": "markdown",
   "metadata": {},
   "source": []
  },
  {
   "cell_type": "markdown",
   "metadata": {},
   "source": [
    "### 1c\n",
    "\n",
    "Resuelva el sistema de ecuaciones lineales por Factorización LU sin pivoteo, \n",
    "\n",
    "recuerde que $U=L^T$ en caso de poder usar cholesky con $l_{i,i}\\neq 1$"
   ]
  },
  {
   "cell_type": "code",
   "execution_count": null,
   "metadata": {},
   "outputs": [],
   "source": []
  },
  {
   "cell_type": "markdown",
   "metadata": {},
   "source": [
    "### 1d \n",
    "Con los valores obtenidos construya en Julia una rutina para evaluar el spline cuadrático $S(x)$\n",
    "en cualquier punto del intervalo $[x_0,x_{14}]$"
   ]
  },
  {
   "cell_type": "code",
   "execution_count": null,
   "metadata": {},
   "outputs": [],
   "source": []
  },
  {
   "cell_type": "code",
   "execution_count": null,
   "metadata": {},
   "outputs": [],
   "source": []
  },
  {
   "cell_type": "markdown",
   "metadata": {},
   "source": [
    "### 1e\n",
    "\n",
    "Gráfique el spline cuadrático junto con el histograma de frecuencias relativas\n",
    "\n",
    "y la gaussiana $f(x)=\\dfrac{\\exp(-0.5x^2)}{\\sqrt{2\\pi}}$. *<font color=green>Use diferentes colores</font>*"
   ]
  },
  {
   "cell_type": "code",
   "execution_count": null,
   "metadata": {},
   "outputs": [],
   "source": []
  },
  {
   "cell_type": "markdown",
   "metadata": {},
   "source": [
    "## Ejercicio 2  $\\quad$   <font color = blue>*El Cardioide*</font>"
   ]
  },
  {
   "cell_type": "markdown",
   "metadata": {},
   "source": [
    "Damos los 2 arreglos"
   ]
  },
  {
   "cell_type": "code",
   "execution_count": 9,
   "metadata": {},
   "outputs": [
    {
     "data": {
      "application/vnd.plotly.v1+json": {
       "data": [
        {
         "colorbar": {
          "title": ""
         },
         "line": {
          "color": "rgba(0, 154, 250, 1.000)",
          "dash": "solid",
          "shape": "linear",
          "width": 1
         },
         "mode": "lines",
         "name": "y1",
         "showlegend": true,
         "type": "scatter",
         "x": [
          1,
          1.29188,
          1.11095,
          0.439463,
          -0.439463,
          -1.11095,
          -1.29188,
          -1,
          -0.510053,
          -0.136026,
          0.00557906,
          0.136026,
          0.510053,
          1
         ],
         "xaxis": "x1",
         "y": [
          0,
          0.622139,
          1.39309,
          1.92541,
          1.92541,
          1.39309,
          0.622139,
          1.22465e-16,
          -0.245629,
          -0.170571,
          -0.0244435,
          -0.170571,
          -0.245629,
          -2.44929e-16
         ],
         "yaxis": "y1"
        }
       ],
       "layout": {
        "annotations": [],
        "height": 400,
        "legend": {
         "bgcolor": "rgba(255, 255, 255, 1.000)",
         "bordercolor": "rgba(0, 0, 0, 1.000)",
         "font": {
          "color": "rgba(0, 0, 0, 1.000)",
          "family": "sans-serif",
          "size": 11
         },
         "x": 1,
         "y": 1
        },
        "margin": {
         "b": 20,
         "l": 0,
         "r": 0,
         "t": 20
        },
        "paper_bgcolor": "rgba(255, 255, 255, 1.000)",
        "plot_bgcolor": "rgba(255, 255, 255, 1.000)",
        "showlegend": true,
        "width": 600,
        "xaxis1": {
         "anchor": "y1",
         "domain": [
          0.05100612423447069,
          0.9934383202099737
         ],
         "gridcolor": "rgba(0, 0, 0, 0.100)",
         "gridwidth": 0.5,
         "linecolor": "rgba(0, 0, 0, 1.000)",
         "mirror": false,
         "range": [
          -1.29188,
          1.29188
         ],
         "showgrid": true,
         "showline": true,
         "showticklabels": true,
         "tickangle": 0,
         "tickcolor": "rgb(0, 0, 0)",
         "tickfont": {
          "color": "rgba(0, 0, 0, 1.000)",
          "family": "sans-serif",
          "size": 11
         },
         "tickmode": "array",
         "ticks": "inside",
         "ticktext": [
          "-1.0",
          "-0.5",
          "0.0",
          "0.5",
          "1.0"
         ],
         "tickvals": [
          -1,
          -0.5,
          0,
          0.5,
          1
         ],
         "title": "",
         "titlefont": {
          "color": "rgba(0, 0, 0, 1.000)",
          "family": "sans-serif",
          "size": 15
         },
         "type": "-",
         "visible": true,
         "zeroline": false,
         "zerolinecolor": "rgba(0, 0, 0, 1.000)"
        },
        "yaxis1": {
         "anchor": "x1",
         "domain": [
          0.03762029746281716,
          0.9901574803149606
         ],
         "gridcolor": "rgba(0, 0, 0, 0.100)",
         "gridwidth": 0.5,
         "linecolor": "rgba(0, 0, 0, 1.000)",
         "mirror": false,
         "range": [
          -0.245629,
          1.92541
         ],
         "showgrid": true,
         "showline": true,
         "showticklabels": true,
         "tickangle": 0,
         "tickcolor": "rgb(0, 0, 0)",
         "tickfont": {
          "color": "rgba(0, 0, 0, 1.000)",
          "family": "sans-serif",
          "size": 11
         },
         "tickmode": "array",
         "ticks": "inside",
         "ticktext": [
          "0.0",
          "0.5",
          "1.0",
          "1.5"
         ],
         "tickvals": [
          0,
          0.5,
          1,
          1.5
         ],
         "title": "",
         "titlefont": {
          "color": "rgba(0, 0, 0, 1.000)",
          "family": "sans-serif",
          "size": 15
         },
         "type": "-",
         "visible": true,
         "zeroline": false,
         "zerolinecolor": "rgba(0, 0, 0, 1.000)"
        }
       }
      },
      "text/html": [
       "<script src=\"file://D:\\Archivos de Programa\\Julia Pro\\pkgs-0.6.2.2\\v0.6\\Plots\\src\\backends\\..\\..\\deps\\plotly-latest.min.js\"></script>    <div id=\"bc814f05-5126-44cc-b364-f7a9c3be4ca5\" style=\"width:600px;height:400px;\"></div>\n",
       "    <script>\n",
       "    PLOT = document.getElementById('bc814f05-5126-44cc-b364-f7a9c3be4ca5');\n",
       "    Plotly.plot(PLOT, [{\"showlegend\":true,\"mode\":\"lines\",\"xaxis\":\"x1\",\"colorbar\":{\"title\":\"\"},\"line\":{\"color\":\"rgba(0, 154, 250, 1.000)\",\"shape\":\"linear\",\"dash\":\"solid\",\"width\":1},\"y\":[0.0,0.622139,1.39309,1.92541,1.92541,1.39309,0.622139,1.22465e-16,-0.245629,-0.170571,-0.0244435,-0.170571,-0.245629,-2.44929e-16],\"type\":\"scatter\",\"name\":\"y1\",\"yaxis\":\"y1\",\"x\":[1.0,1.29188,1.11095,0.439463,-0.439463,-1.11095,-1.29188,-1.0,-0.510053,-0.136026,0.00557906,0.136026,0.510053,1.0]}], {\"showlegend\":true,\"paper_bgcolor\":\"rgba(255, 255, 255, 1.000)\",\"xaxis1\":{\"showticklabels\":true,\"gridwidth\":0.5,\"tickvals\":[-1.0,-0.5,0.0,0.5,1.0],\"visible\":true,\"ticks\":\"inside\",\"range\":[-1.29188,1.29188],\"domain\":[0.05100612423447069,0.9934383202099737],\"tickmode\":\"array\",\"linecolor\":\"rgba(0, 0, 0, 1.000)\",\"showgrid\":true,\"title\":\"\",\"mirror\":false,\"tickangle\":0,\"showline\":true,\"gridcolor\":\"rgba(0, 0, 0, 0.100)\",\"titlefont\":{\"color\":\"rgba(0, 0, 0, 1.000)\",\"family\":\"sans-serif\",\"size\":15},\"tickcolor\":\"rgb(0, 0, 0)\",\"ticktext\":[\"-1.0\",\"-0.5\",\"0.0\",\"0.5\",\"1.0\"],\"zeroline\":false,\"type\":\"-\",\"tickfont\":{\"color\":\"rgba(0, 0, 0, 1.000)\",\"family\":\"sans-serif\",\"size\":11},\"zerolinecolor\":\"rgba(0, 0, 0, 1.000)\",\"anchor\":\"y1\"},\"annotations\":[],\"height\":400,\"margin\":{\"l\":0,\"b\":20,\"r\":0,\"t\":20},\"plot_bgcolor\":\"rgba(255, 255, 255, 1.000)\",\"yaxis1\":{\"showticklabels\":true,\"gridwidth\":0.5,\"tickvals\":[0.0,0.5,1.0,1.5],\"visible\":true,\"ticks\":\"inside\",\"range\":[-0.245629,1.92541],\"domain\":[0.03762029746281716,0.9901574803149606],\"tickmode\":\"array\",\"linecolor\":\"rgba(0, 0, 0, 1.000)\",\"showgrid\":true,\"title\":\"\",\"mirror\":false,\"tickangle\":0,\"showline\":true,\"gridcolor\":\"rgba(0, 0, 0, 0.100)\",\"titlefont\":{\"color\":\"rgba(0, 0, 0, 1.000)\",\"family\":\"sans-serif\",\"size\":15},\"tickcolor\":\"rgb(0, 0, 0)\",\"ticktext\":[\"0.0\",\"0.5\",\"1.0\",\"1.5\"],\"zeroline\":false,\"type\":\"-\",\"tickfont\":{\"color\":\"rgba(0, 0, 0, 1.000)\",\"family\":\"sans-serif\",\"size\":11},\"zerolinecolor\":\"rgba(0, 0, 0, 1.000)\",\"anchor\":\"x1\"},\"legend\":{\"bordercolor\":\"rgba(0, 0, 0, 1.000)\",\"bgcolor\":\"rgba(255, 255, 255, 1.000)\",\"font\":{\"color\":\"rgba(0, 0, 0, 1.000)\",\"family\":\"sans-serif\",\"size\":11},\"y\":1.0,\"x\":1.0},\"width\":600});\n",
       "    </script>\n"
      ]
     },
     "execution_count": 9,
     "metadata": {},
     "output_type": "execute_result"
    }
   ],
   "source": [
    "x = [ 1.0       \n",
    "  1.29188   \n",
    "  1.11095   \n",
    "  0.439463  \n",
    " -0.439463  \n",
    " -1.11095   \n",
    " -1.29188   \n",
    " -1.0       \n",
    " -0.510053  \n",
    " -0.136026  \n",
    "  0.00557906\n",
    "  0.136026  \n",
    "  0.510053  \n",
    "  1.0     ];\n",
    "y = [0.0        \n",
    "  0.622139   \n",
    "  1.39309    \n",
    "  1.92541    \n",
    "  1.92541    \n",
    "  1.39309    \n",
    "  0.622139   \n",
    "  1.22465e-16\n",
    " -0.245629   \n",
    " -0.170571   \n",
    " -0.0244435  \n",
    " -0.170571   \n",
    " -0.245629   \n",
    " -2.44929e-16];\n",
    "plot(x,y)"
   ]
  },
  {
   "cell_type": "markdown",
   "metadata": {},
   "source": [
    "con los puntos $p_i=(x_i,y_i),\\ i =0,\\dots,13$ que mostramos en la siguiente figura.\n",
    "<img src=\"cardioide.png\">"
   ]
  },
  {
   "cell_type": "markdown",
   "metadata": {},
   "source": [
    "Los puntos están ordenados comenzando con $(x_0,y_0)$ y los siguientes puntos \n",
    "$(x_i,y_i)$ se van colocando conforme avanzamos sobre \n",
    "la figura.\n",
    "\n",
    "Queremos obtener una curva parametrizada\n",
    "\n",
    "$$(x(l),y(l)),\\quad 0\\leq l\\leq L$$\n",
    "\n",
    "que pase por los puntos $(x_i,y_i)$ de la figura.\n",
    "\n",
    "La idea es parametrizar la curva en función de su longitud $l$ desde\n",
    "$(x_0,y_0)$ hasta el punto $(x,y)$ sobre la curva. En ese caso, \n",
    "la constante $L$ es la longitud de la curva desde $(x_{0},y_{0})$ hasta \n",
    "$(x_{13},y_{13})$.\n",
    "\n",
    "Lo que hacemos es generar una partición del intervalo $[0,L]$:\n",
    "\n",
    "$$0=l_0 <l_1<l_2<\\cdots<l_{13}\\approx L$$\n",
    "\n",
    "a partir de las distancias \n",
    "\n",
    "$$d_i= \\left\\|\n",
    "\\begin{pmatrix}\n",
    " x_{i+1} \\\\ y_{i+1}\n",
    "\\end{pmatrix}-\n",
    "\\begin{pmatrix}\n",
    " x_i \\\\ y_i\n",
    "\\end{pmatrix}\\right\\|_2\n",
    "\\quad i=0,\\dots,12$$\n",
    "\n",
    "mediante la iteración \n",
    "\n",
    "$$l_{i+1} = l_i + d_i\\quad i=0,\\dots,12.$$\n",
    "\n",
    "De ese modo,\n",
    "\n",
    "> $x(l)\\approx$ spline cúbico natural $S_x(l)$ que interpola\n",
    " $(l_0,x_0),\\dots,(l_{13},x_{13})$ \n",
    " \n",
    "> $y(l)\\approx$ spline cúbico natural $S_y(l)$ que interpola\n",
    " $(l_0,y_0),\\dots,(l_{13},y_{13})$"
   ]
  },
  {
   "cell_type": "markdown",
   "metadata": {},
   "source": [
    "### 2a\n",
    "\n",
    "Gráfique el spline $S_x(l)$ sobre una partición\n",
    "de $101$ puntos del intervalo $[l_0,l_{13}]$"
   ]
  },
  {
   "cell_type": "code",
   "execution_count": null,
   "metadata": {},
   "outputs": [],
   "source": []
  },
  {
   "cell_type": "markdown",
   "metadata": {},
   "source": [
    "### 2b\n",
    "En otra figura, gráfique el spline $S_y(l)$ sobre una \n",
    "partición uniforme de $101$ puntos del intervalo $[l_0,l_{13}]$"
   ]
  },
  {
   "cell_type": "code",
   "execution_count": null,
   "metadata": {},
   "outputs": [],
   "source": []
  },
  {
   "cell_type": "markdown",
   "metadata": {},
   "source": [
    "### 2c\n",
    "\n",
    "Gráfique los puntos  \n",
    " \n",
    " $$(S_x(l),S_y(l))$$ \n",
    " \n",
    " usando una partición uniforme de $101$ puntos del intervalo \n",
    " $l_0\\leq l\\leq l_{13}$."
   ]
  },
  {
   "cell_type": "code",
   "execution_count": null,
   "metadata": {},
   "outputs": [],
   "source": []
  },
  {
   "cell_type": "markdown",
   "metadata": {},
   "source": [
    "### 2d\n",
    "La longitud de la curva\n",
    "\n",
    "  $$(S_x(l),S_y(l)),\\quad l_0\\leq l\\leq l_{13}$$ \n",
    "  \n",
    "  es \n",
    "  \n",
    "  $$I = \\int_{l_0}^{l_{13}}\\sqrt{\\left(\\dfrac{d}{dl}S_x(l)\\right)^2+\n",
    "  \\left(\\dfrac{d}{dl}S_y(l)\\right)^2} dl$$\n",
    "  \n",
    "  Calcule esta integral usando ***la regla de cuadratura compuesta del \n",
    "  trapecio*** con nodos iguales a $l_0,\\dots,l_{13}$."
   ]
  },
  {
   "cell_type": "code",
   "execution_count": null,
   "metadata": {},
   "outputs": [],
   "source": []
  },
  {
   "cell_type": "markdown",
   "metadata": {},
   "source": []
  },
  {
   "cell_type": "markdown",
   "metadata": {},
   "source": [
    "### 2e\n",
    "Calcule \n",
    "$$L= \\int_0^{2\\pi}\\sqrt{2+2\\sin(\\theta)}d\\theta$$\n",
    "por usando ***la regla de cuadratura compuesta del \n",
    "trapecio*** con 100 puntos."
   ]
  },
  {
   "cell_type": "code",
   "execution_count": null,
   "metadata": {},
   "outputs": [],
   "source": []
  },
  {
   "cell_type": "markdown",
   "metadata": {},
   "source": [
    "¿cuánto vale el error $|I-L|$?"
   ]
  },
  {
   "cell_type": "markdown",
   "metadata": {},
   "source": []
  },
  {
   "cell_type": "markdown",
   "metadata": {},
   "source": [
    "## Ejercicio 3  $\\quad$   <font color = blue>*El Fenómeno de Runge*</font>\n",
    "\n",
    "#### 2a\n",
    " \n",
    " Sea $p_k(t)$ el polinomio interpolante de grado $k$ para\n",
    " la función de Runge \n",
    " \n",
    " $$f(t)=\\dfrac{1}{t^2+1}:[-5,5]\\to\\mathbb R$$ \n",
    " \n",
    " Haga una gráfica interactiva que muestre  lo siguiente:\n",
    " \n",
    " * la gráfica de $f(t)$ sobre la partición uniforme del \n",
    " intervalo $[-5,5]$ de $100$ puntos\n",
    " \n",
    " * la gráfica de $p_k(t)$ usando la partición anterior\n",
    " \n",
    " * un deplazador que haga variar el grado $k$ del polinomio $p_k(t)$\n",
    " de $1$ a $10$\n",
    "\n",
    "**NOTA:** Use diferencias divididas para obtener $p_k(t)$"
   ]
  },
  {
   "cell_type": "code",
   "execution_count": 90,
   "metadata": {},
   "outputs": [
    {
     "data": {
      "application/vnd.jupyter.widget-view+json": {
       "model_id": "110d2752-8737-4096-b8da-78570aada0fb",
       "version_major": 2,
       "version_minor": 0
      }
     },
     "metadata": {},
     "output_type": "display_data"
    },
    {
     "data": {
      "text/html": [],
      "text/plain": [
       "Interact.Options{:SelectionSlider,Any}(77: \"input-21\" = 6 Any , \"Grado\", 6, \"6\", 5, Interact.OptionDict(DataStructures.OrderedDict{Any,Any}(\"2\"=>2,\"3\"=>3,\"4\"=>4,\"5\"=>5,\"6\"=>6,\"7\"=>7,\"8\"=>8,\"9\"=>9,\"10\"=>10), Dict{Any,Any}(Pair{Any,Any}(7, \"7\"),Pair{Any,Any}(4, \"4\"),Pair{Any,Any}(9, \"9\"),Pair{Any,Any}(10, \"10\"),Pair{Any,Any}(2, \"2\"),Pair{Any,Any}(3, \"3\"),Pair{Any,Any}(5, \"5\"),Pair{Any,Any}(8, \"8\"),Pair{Any,Any}(6, \"6\"))), Any[], Any[], true, \"horizontal\")"
      ]
     },
     "metadata": {},
     "output_type": "display_data"
    },
    {
     "data": {
      "application/vnd.plotly.v1+json": {
       "data": [
        {
         "colorbar": {
          "title": ""
         },
         "line": {
          "color": "rgba(255, 0, 0, 1.000)",
          "dash": "solid",
          "shape": "linear",
          "width": 1
         },
         "mode": "lines",
         "name": "Polinomio grado 6",
         "showlegend": true,
         "type": "scatter",
         "x": [
          -5,
          -4.898989898989899,
          -4.797979797979798,
          -4.696969696969697,
          -4.595959595959596,
          -4.494949494949495,
          -4.393939393939394,
          -4.292929292929293,
          -4.191919191919192,
          -4.090909090909091,
          -3.98989898989899,
          -3.888888888888889,
          -3.787878787878788,
          -3.686868686868687,
          -3.585858585858586,
          -3.484848484848485,
          -3.3838383838383836,
          -3.282828282828283,
          -3.1818181818181817,
          -3.080808080808081,
          -2.9797979797979797,
          -2.878787878787879,
          -2.7777777777777777,
          -2.676767676767677,
          -2.5757575757575757,
          -2.474747474747475,
          -2.3737373737373737,
          -2.272727272727273,
          -2.1717171717171717,
          -2.0707070707070705,
          -1.9696969696969697,
          -1.8686868686868687,
          -1.7676767676767677,
          -1.6666666666666667,
          -1.5656565656565657,
          -1.4646464646464648,
          -1.3636363636363635,
          -1.2626262626262625,
          -1.1616161616161615,
          -1.0606060606060606,
          -0.9595959595959596,
          -0.8585858585858586,
          -0.7575757575757576,
          -0.6565656565656566,
          -0.5555555555555556,
          -0.45454545454545453,
          -0.35353535353535354,
          -0.25252525252525254,
          -0.15151515151515152,
          -0.050505050505050504,
          0.050505050505050504,
          0.15151515151515152,
          0.25252525252525254,
          0.35353535353535354,
          0.45454545454545453,
          0.5555555555555556,
          0.6565656565656566,
          0.7575757575757576,
          0.8585858585858586,
          0.9595959595959596,
          1.0606060606060606,
          1.1616161616161615,
          1.2626262626262625,
          1.3636363636363635,
          1.4646464646464648,
          1.5656565656565657,
          1.6666666666666667,
          1.7676767676767677,
          1.8686868686868687,
          1.9696969696969697,
          2.0707070707070705,
          2.1717171717171717,
          2.272727272727273,
          2.3737373737373737,
          2.474747474747475,
          2.5757575757575757,
          2.676767676767677,
          2.7777777777777777,
          2.878787878787879,
          2.9797979797979797,
          3.080808080808081,
          3.1818181818181817,
          3.282828282828283,
          3.3838383838383836,
          3.484848484848485,
          3.585858585858586,
          3.686868686868687,
          3.787878787878788,
          3.888888888888889,
          3.98989898989899,
          4.090909090909091,
          4.191919191919192,
          4.292929292929293,
          4.393939393939394,
          4.494949494949495,
          4.595959595959596,
          4.696969696969697,
          4.797979797979798,
          4.898989898989899,
          5
         ],
         "xaxis": "x1",
         "y": [
          0.038461538461538464,
          0.2607215776002925,
          0.42607675433377046,
          0.5423590948154157,
          0.6167590506874789,
          0.6558557142788844,
          0.6656463909265586,
          0.6515755284202016,
          0.6185630035705083,
          0.5710317659008408,
          0.5129348384623498,
          0.44778167577254346,
          0.3786638788773109,
          0.30828026753638804,
          0.2389613095322796,
          0.17269290710262564,
          0.11113954049602129,
          0.05566676865128382,
          0.007363087000168748,
          -0.0329388576064617,
          -0.06464169484902439,
          -0.08736340176614807,
          -0.10091801645815948,
          -0.10529699466711778,
          -0.10065120923340151,
          -0.08727359242884411,
          -0.06558242116642114,
          -0.0361052450864881,
          0.0005365424804325697,
          0.04364249067431206,
          0.09244723438972652,
          0.14613399468341842,
          0.20384743630530555,
          0.2647058823529411,
          0.3278128860494228,
          0.3922681596447509,
          0.45717786044063724,
          0.5216642339387614,
          0.5848746141124793,
          0.6459897808019784,
          0.7042316742328847,
          0.7588704666583178,
          0.8092309911243957,
          0.8546985273591898,
          0.8947239447851291,
          0.928828202654853,
          0.9566062073105147,
          0.977730026566534,
          0.9919514612157988,
          0.9991039736593169,
          0.9991039736593168,
          0.9919514612157988,
          0.9777300265665341,
          0.9566062073105147,
          0.9288282026548528,
          0.894723944785129,
          0.8546985273591896,
          0.8092309911243953,
          0.7588704666583177,
          0.7042316742328847,
          0.6459897808019782,
          0.584874614112479,
          0.5216642339387613,
          0.4571778604406369,
          0.3922681596447507,
          0.3278128860494224,
          0.264705882352941,
          0.20384743630530533,
          0.14613399468341826,
          0.09244723438972621,
          0.04364249067431166,
          0.0005365424804325766,
          -0.0361052450864881,
          -0.06558242116642142,
          -0.08727359242884392,
          -0.10065120923340212,
          -0.10529699466711809,
          -0.10091801645815959,
          -0.0873634017661484,
          -0.06464169484902453,
          -0.03293885760646263,
          0.00736308700016924,
          0.055666768651283435,
          0.11113954049602123,
          0.17269290710262655,
          0.23896130953227998,
          0.3082802675363876,
          0.3786638788773091,
          0.44778167577254435,
          0.5129348384623507,
          0.5710317659008375,
          0.6185630035705056,
          0.6515755284202011,
          0.6656463909265579,
          0.6558557142788819,
          0.6167590506874758,
          0.5423590948154159,
          0.4260767543337677,
          0.2607215776002956,
          0.03846153846153954
         ],
         "yaxis": "y1"
        },
        {
         "colorbar": {
          "title": ""
         },
         "line": {
          "color": "rgba(0, 128, 0, 1.000)",
          "dash": "solid",
          "shape": "linear",
          "width": 1
         },
         "mode": "lines",
         "name": "Funcion",
         "showlegend": true,
         "type": "scatter",
         "x": [
          -5,
          -4.898989898989899,
          -4.797979797979798,
          -4.696969696969697,
          -4.595959595959596,
          -4.494949494949495,
          -4.393939393939394,
          -4.292929292929293,
          -4.191919191919192,
          -4.090909090909091,
          -3.98989898989899,
          -3.888888888888889,
          -3.787878787878788,
          -3.686868686868687,
          -3.585858585858586,
          -3.484848484848485,
          -3.3838383838383836,
          -3.282828282828283,
          -3.1818181818181817,
          -3.080808080808081,
          -2.9797979797979797,
          -2.878787878787879,
          -2.7777777777777777,
          -2.676767676767677,
          -2.5757575757575757,
          -2.474747474747475,
          -2.3737373737373737,
          -2.272727272727273,
          -2.1717171717171717,
          -2.0707070707070705,
          -1.9696969696969697,
          -1.8686868686868687,
          -1.7676767676767677,
          -1.6666666666666667,
          -1.5656565656565657,
          -1.4646464646464648,
          -1.3636363636363635,
          -1.2626262626262625,
          -1.1616161616161615,
          -1.0606060606060606,
          -0.9595959595959596,
          -0.8585858585858586,
          -0.7575757575757576,
          -0.6565656565656566,
          -0.5555555555555556,
          -0.45454545454545453,
          -0.35353535353535354,
          -0.25252525252525254,
          -0.15151515151515152,
          -0.050505050505050504,
          0.050505050505050504,
          0.15151515151515152,
          0.25252525252525254,
          0.35353535353535354,
          0.45454545454545453,
          0.5555555555555556,
          0.6565656565656566,
          0.7575757575757576,
          0.8585858585858586,
          0.9595959595959596,
          1.0606060606060606,
          1.1616161616161615,
          1.2626262626262625,
          1.3636363636363635,
          1.4646464646464648,
          1.5656565656565657,
          1.6666666666666667,
          1.7676767676767677,
          1.8686868686868687,
          1.9696969696969697,
          2.0707070707070705,
          2.1717171717171717,
          2.272727272727273,
          2.3737373737373737,
          2.474747474747475,
          2.5757575757575757,
          2.676767676767677,
          2.7777777777777777,
          2.878787878787879,
          2.9797979797979797,
          3.080808080808081,
          3.1818181818181817,
          3.282828282828283,
          3.3838383838383836,
          3.484848484848485,
          3.585858585858586,
          3.686868686868687,
          3.787878787878788,
          3.888888888888889,
          3.98989898989899,
          4.090909090909091,
          4.191919191919192,
          4.292929292929293,
          4.393939393939394,
          4.494949494949495,
          4.595959595959596,
          4.696969696969697,
          4.797979797979798,
          4.898989898989899,
          5
         ],
         "xaxis": "x1",
         "y": [
          0.038461538461538464,
          0.03999983675201815,
          0.04163091587165394,
          0.04336226805765708,
          0.045202143654358796,
          0.04715964316303062,
          0.049244822284525654,
          0.05146881203197042,
          0.05384395635788294,
          0.056383970177073625,
          0.05910412118726858,
          0.06202143950995406,
          0.06515495991384468,
          0.06852600226532239,
          0.07215849690044615,
          0.07607936286153416,
          0.08031894842082836,
          0.0849115450591721,
          0.08989598811292719,
          0.09531635967556844,
          0.10122281205461345,
          0.10767253312240457,
          0.11473087818696884,
          0.12247269637367855,
          0.13098388260764976,
          0.1403631884971214,
          0.15072432565435365,
          0.1621983914209115,
          0.17493663656159641,
          0.18911357233820866,
          0.20493037260067748,
          0.22261845273247627,
          0.24244298223915303,
          0.2647058823529412,
          0.28974753148465676,
          0.3179458898332576,
          0.34971098265895956,
          0.38547156454023446,
          0.4256492660470772,
          0.4706136560069144,
          0.520609794964411,
          0.5756490074004463,
          0.6353558926487749,
          0.6987737059746185,
          0.7641509433962264,
          0.8287671232876712,
          0.888898966080174,
          0.9400537118741608,
          0.9775583482944344,
          0.9974557296967229,
          0.9974557296967229,
          0.9775583482944344,
          0.9400537118741608,
          0.888898966080174,
          0.8287671232876712,
          0.7641509433962264,
          0.6987737059746185,
          0.6353558926487749,
          0.5756490074004463,
          0.520609794964411,
          0.4706136560069144,
          0.4256492660470772,
          0.38547156454023446,
          0.34971098265895956,
          0.3179458898332576,
          0.28974753148465676,
          0.2647058823529412,
          0.24244298223915303,
          0.22261845273247627,
          0.20493037260067748,
          0.18911357233820866,
          0.17493663656159641,
          0.1621983914209115,
          0.15072432565435365,
          0.1403631884971214,
          0.13098388260764976,
          0.12247269637367855,
          0.11473087818696884,
          0.10767253312240457,
          0.10122281205461345,
          0.09531635967556844,
          0.08989598811292719,
          0.0849115450591721,
          0.08031894842082836,
          0.07607936286153416,
          0.07215849690044615,
          0.06852600226532239,
          0.06515495991384468,
          0.06202143950995406,
          0.05910412118726858,
          0.056383970177073625,
          0.05384395635788294,
          0.05146881203197042,
          0.049244822284525654,
          0.04715964316303062,
          0.045202143654358796,
          0.04336226805765708,
          0.04163091587165394,
          0.03999983675201815,
          0.038461538461538464
         ],
         "yaxis": "y1"
        }
       ],
       "layout": {
        "annotations": [],
        "height": 400,
        "legend": {
         "bgcolor": "rgba(255, 255, 255, 1.000)",
         "bordercolor": "rgba(0, 0, 0, 1.000)",
         "font": {
          "color": "rgba(0, 0, 0, 1.000)",
          "family": "sans-serif",
          "size": 11
         },
         "x": 1,
         "y": 1
        },
        "margin": {
         "b": 20,
         "l": 0,
         "r": 0,
         "t": 20
        },
        "paper_bgcolor": "rgba(255, 255, 255, 1.000)",
        "plot_bgcolor": "rgba(255, 255, 255, 1.000)",
        "showlegend": true,
        "width": 600,
        "xaxis1": {
         "anchor": "y1",
         "domain": [
          0.05100612423447069,
          0.9934383202099737
         ],
         "gridcolor": "rgba(0, 0, 0, 0.100)",
         "gridwidth": 0.5,
         "linecolor": "rgba(0, 0, 0, 1.000)",
         "mirror": false,
         "range": [
          -5,
          5
         ],
         "showgrid": true,
         "showline": true,
         "showticklabels": true,
         "tickangle": 0,
         "tickcolor": "rgb(0, 0, 0)",
         "tickfont": {
          "color": "rgba(0, 0, 0, 1.000)",
          "family": "sans-serif",
          "size": 11
         },
         "tickmode": "array",
         "ticks": "inside",
         "ticktext": [
          "-5.0",
          "-2.5",
          "0.0",
          "2.5",
          "5.0"
         ],
         "tickvals": [
          -5,
          -2.5,
          0,
          2.5,
          5
         ],
         "title": "X",
         "titlefont": {
          "color": "rgba(0, 0, 0, 1.000)",
          "family": "sans-serif",
          "size": 15
         },
         "type": "-",
         "visible": true,
         "zeroline": false,
         "zerolinecolor": "rgba(0, 0, 0, 1.000)"
        },
        "yaxis1": {
         "anchor": "x1",
         "domain": [
          0.07581474190726165,
          0.9901574803149606
         ],
         "gridcolor": "rgba(0, 0, 0, 0.100)",
         "gridwidth": 0.5,
         "linecolor": "rgba(0, 0, 0, 1.000)",
         "mirror": false,
         "range": [
          -0.10529699466711809,
          0.9991039736593169
         ],
         "showgrid": true,
         "showline": true,
         "showticklabels": true,
         "tickangle": 0,
         "tickcolor": "rgb(0, 0, 0)",
         "tickfont": {
          "color": "rgba(0, 0, 0, 1.000)",
          "family": "sans-serif",
          "size": 11
         },
         "tickmode": "array",
         "ticks": "inside",
         "ticktext": [
          "0.0",
          "0.2",
          "0.4",
          "0.6",
          "0.8"
         ],
         "tickvals": [
          0,
          0.2,
          0.4,
          0.6000000000000001,
          0.8
         ],
         "title": "",
         "titlefont": {
          "color": "rgba(0, 0, 0, 1.000)",
          "family": "sans-serif",
          "size": 15
         },
         "type": "-",
         "visible": true,
         "zeroline": false,
         "zerolinecolor": "rgba(0, 0, 0, 1.000)"
        }
       }
      },
      "text/html": [
       "<script src=\"file://D:\\Archivos de Programa\\Julia Pro\\pkgs-0.6.2.2\\v0.6\\Plots\\src\\backends\\..\\..\\deps\\plotly-latest.min.js\"></script>    <div id=\"4cdc6d36-1a0d-40a9-ae6f-06bd9dcac33b\" style=\"width:600px;height:400px;\"></div>\n",
       "    <script>\n",
       "    PLOT = document.getElementById('4cdc6d36-1a0d-40a9-ae6f-06bd9dcac33b');\n",
       "    Plotly.plot(PLOT, [{\"showlegend\":true,\"mode\":\"lines\",\"xaxis\":\"x1\",\"colorbar\":{\"title\":\"\"},\"line\":{\"color\":\"rgba(255, 0, 0, 1.000)\",\"shape\":\"linear\",\"dash\":\"solid\",\"width\":1},\"y\":[0.038461538461538464,0.2607215776002925,0.42607675433377046,0.5423590948154157,0.6167590506874789,0.6558557142788844,0.6656463909265586,0.6515755284202016,0.6185630035705083,0.5710317659008408,0.5129348384623498,0.44778167577254346,0.3786638788773109,0.30828026753638804,0.2389613095322796,0.17269290710262564,0.11113954049602129,0.05566676865128382,0.007363087000168748,-0.0329388576064617,-0.06464169484902439,-0.08736340176614807,-0.10091801645815948,-0.10529699466711778,-0.10065120923340151,-0.08727359242884411,-0.06558242116642114,-0.0361052450864881,0.0005365424804325697,0.04364249067431206,0.09244723438972652,0.14613399468341842,0.20384743630530555,0.2647058823529411,0.3278128860494228,0.3922681596447509,0.45717786044063724,0.5216642339387614,0.5848746141124793,0.6459897808019784,0.7042316742328847,0.7588704666583178,0.8092309911243957,0.8546985273591898,0.8947239447851291,0.928828202654853,0.9566062073105147,0.977730026566534,0.9919514612157988,0.9991039736593169,0.9991039736593168,0.9919514612157988,0.9777300265665341,0.9566062073105147,0.9288282026548528,0.894723944785129,0.8546985273591896,0.8092309911243953,0.7588704666583177,0.7042316742328847,0.6459897808019782,0.584874614112479,0.5216642339387613,0.4571778604406369,0.3922681596447507,0.3278128860494224,0.264705882352941,0.20384743630530533,0.14613399468341826,0.09244723438972621,0.04364249067431166,0.0005365424804325766,-0.0361052450864881,-0.06558242116642142,-0.08727359242884392,-0.10065120923340212,-0.10529699466711809,-0.10091801645815959,-0.0873634017661484,-0.06464169484902453,-0.03293885760646263,0.00736308700016924,0.055666768651283435,0.11113954049602123,0.17269290710262655,0.23896130953227998,0.3082802675363876,0.3786638788773091,0.44778167577254435,0.5129348384623507,0.5710317659008375,0.6185630035705056,0.6515755284202011,0.6656463909265579,0.6558557142788819,0.6167590506874758,0.5423590948154159,0.4260767543337677,0.2607215776002956,0.03846153846153954],\"type\":\"scatter\",\"name\":\"Polinomio grado 6\",\"yaxis\":\"y1\",\"x\":[-5.0,-4.898989898989899,-4.797979797979798,-4.696969696969697,-4.595959595959596,-4.494949494949495,-4.393939393939394,-4.292929292929293,-4.191919191919192,-4.090909090909091,-3.98989898989899,-3.888888888888889,-3.787878787878788,-3.686868686868687,-3.585858585858586,-3.484848484848485,-3.3838383838383836,-3.282828282828283,-3.1818181818181817,-3.080808080808081,-2.9797979797979797,-2.878787878787879,-2.7777777777777777,-2.676767676767677,-2.5757575757575757,-2.474747474747475,-2.3737373737373737,-2.272727272727273,-2.1717171717171717,-2.0707070707070705,-1.9696969696969697,-1.8686868686868687,-1.7676767676767677,-1.6666666666666667,-1.5656565656565657,-1.4646464646464648,-1.3636363636363635,-1.2626262626262625,-1.1616161616161615,-1.0606060606060606,-0.9595959595959596,-0.8585858585858586,-0.7575757575757576,-0.6565656565656566,-0.5555555555555556,-0.45454545454545453,-0.35353535353535354,-0.25252525252525254,-0.15151515151515152,-0.050505050505050504,0.050505050505050504,0.15151515151515152,0.25252525252525254,0.35353535353535354,0.45454545454545453,0.5555555555555556,0.6565656565656566,0.7575757575757576,0.8585858585858586,0.9595959595959596,1.0606060606060606,1.1616161616161615,1.2626262626262625,1.3636363636363635,1.4646464646464648,1.5656565656565657,1.6666666666666667,1.7676767676767677,1.8686868686868687,1.9696969696969697,2.0707070707070705,2.1717171717171717,2.272727272727273,2.3737373737373737,2.474747474747475,2.5757575757575757,2.676767676767677,2.7777777777777777,2.878787878787879,2.9797979797979797,3.080808080808081,3.1818181818181817,3.282828282828283,3.3838383838383836,3.484848484848485,3.585858585858586,3.686868686868687,3.787878787878788,3.888888888888889,3.98989898989899,4.090909090909091,4.191919191919192,4.292929292929293,4.393939393939394,4.494949494949495,4.595959595959596,4.696969696969697,4.797979797979798,4.898989898989899,5.0]},{\"showlegend\":true,\"mode\":\"lines\",\"xaxis\":\"x1\",\"colorbar\":{\"title\":\"\"},\"line\":{\"color\":\"rgba(0, 128, 0, 1.000)\",\"shape\":\"linear\",\"dash\":\"solid\",\"width\":1},\"y\":[0.038461538461538464,0.03999983675201815,0.04163091587165394,0.04336226805765708,0.045202143654358796,0.04715964316303062,0.049244822284525654,0.05146881203197042,0.05384395635788294,0.056383970177073625,0.05910412118726858,0.06202143950995406,0.06515495991384468,0.06852600226532239,0.07215849690044615,0.07607936286153416,0.08031894842082836,0.0849115450591721,0.08989598811292719,0.09531635967556844,0.10122281205461345,0.10767253312240457,0.11473087818696884,0.12247269637367855,0.13098388260764976,0.1403631884971214,0.15072432565435365,0.1621983914209115,0.17493663656159641,0.18911357233820866,0.20493037260067748,0.22261845273247627,0.24244298223915303,0.2647058823529412,0.28974753148465676,0.3179458898332576,0.34971098265895956,0.38547156454023446,0.4256492660470772,0.4706136560069144,0.520609794964411,0.5756490074004463,0.6353558926487749,0.6987737059746185,0.7641509433962264,0.8287671232876712,0.888898966080174,0.9400537118741608,0.9775583482944344,0.9974557296967229,0.9974557296967229,0.9775583482944344,0.9400537118741608,0.888898966080174,0.8287671232876712,0.7641509433962264,0.6987737059746185,0.6353558926487749,0.5756490074004463,0.520609794964411,0.4706136560069144,0.4256492660470772,0.38547156454023446,0.34971098265895956,0.3179458898332576,0.28974753148465676,0.2647058823529412,0.24244298223915303,0.22261845273247627,0.20493037260067748,0.18911357233820866,0.17493663656159641,0.1621983914209115,0.15072432565435365,0.1403631884971214,0.13098388260764976,0.12247269637367855,0.11473087818696884,0.10767253312240457,0.10122281205461345,0.09531635967556844,0.08989598811292719,0.0849115450591721,0.08031894842082836,0.07607936286153416,0.07215849690044615,0.06852600226532239,0.06515495991384468,0.06202143950995406,0.05910412118726858,0.056383970177073625,0.05384395635788294,0.05146881203197042,0.049244822284525654,0.04715964316303062,0.045202143654358796,0.04336226805765708,0.04163091587165394,0.03999983675201815,0.038461538461538464],\"type\":\"scatter\",\"name\":\"Funcion\",\"yaxis\":\"y1\",\"x\":[-5.0,-4.898989898989899,-4.797979797979798,-4.696969696969697,-4.595959595959596,-4.494949494949495,-4.393939393939394,-4.292929292929293,-4.191919191919192,-4.090909090909091,-3.98989898989899,-3.888888888888889,-3.787878787878788,-3.686868686868687,-3.585858585858586,-3.484848484848485,-3.3838383838383836,-3.282828282828283,-3.1818181818181817,-3.080808080808081,-2.9797979797979797,-2.878787878787879,-2.7777777777777777,-2.676767676767677,-2.5757575757575757,-2.474747474747475,-2.3737373737373737,-2.272727272727273,-2.1717171717171717,-2.0707070707070705,-1.9696969696969697,-1.8686868686868687,-1.7676767676767677,-1.6666666666666667,-1.5656565656565657,-1.4646464646464648,-1.3636363636363635,-1.2626262626262625,-1.1616161616161615,-1.0606060606060606,-0.9595959595959596,-0.8585858585858586,-0.7575757575757576,-0.6565656565656566,-0.5555555555555556,-0.45454545454545453,-0.35353535353535354,-0.25252525252525254,-0.15151515151515152,-0.050505050505050504,0.050505050505050504,0.15151515151515152,0.25252525252525254,0.35353535353535354,0.45454545454545453,0.5555555555555556,0.6565656565656566,0.7575757575757576,0.8585858585858586,0.9595959595959596,1.0606060606060606,1.1616161616161615,1.2626262626262625,1.3636363636363635,1.4646464646464648,1.5656565656565657,1.6666666666666667,1.7676767676767677,1.8686868686868687,1.9696969696969697,2.0707070707070705,2.1717171717171717,2.272727272727273,2.3737373737373737,2.474747474747475,2.5757575757575757,2.676767676767677,2.7777777777777777,2.878787878787879,2.9797979797979797,3.080808080808081,3.1818181818181817,3.282828282828283,3.3838383838383836,3.484848484848485,3.585858585858586,3.686868686868687,3.787878787878788,3.888888888888889,3.98989898989899,4.090909090909091,4.191919191919192,4.292929292929293,4.393939393939394,4.494949494949495,4.595959595959596,4.696969696969697,4.797979797979798,4.898989898989899,5.0]}], {\"showlegend\":true,\"paper_bgcolor\":\"rgba(255, 255, 255, 1.000)\",\"xaxis1\":{\"showticklabels\":true,\"gridwidth\":0.5,\"tickvals\":[-5.0,-2.5,0.0,2.5,5.0],\"visible\":true,\"ticks\":\"inside\",\"range\":[-5.0,5.0],\"domain\":[0.05100612423447069,0.9934383202099737],\"tickmode\":\"array\",\"linecolor\":\"rgba(0, 0, 0, 1.000)\",\"showgrid\":true,\"title\":\"X\",\"mirror\":false,\"tickangle\":0,\"showline\":true,\"gridcolor\":\"rgba(0, 0, 0, 0.100)\",\"titlefont\":{\"color\":\"rgba(0, 0, 0, 1.000)\",\"family\":\"sans-serif\",\"size\":15},\"tickcolor\":\"rgb(0, 0, 0)\",\"ticktext\":[\"-5.0\",\"-2.5\",\"0.0\",\"2.5\",\"5.0\"],\"zeroline\":false,\"type\":\"-\",\"tickfont\":{\"color\":\"rgba(0, 0, 0, 1.000)\",\"family\":\"sans-serif\",\"size\":11},\"zerolinecolor\":\"rgba(0, 0, 0, 1.000)\",\"anchor\":\"y1\"},\"annotations\":[],\"height\":400,\"margin\":{\"l\":0,\"b\":20,\"r\":0,\"t\":20},\"plot_bgcolor\":\"rgba(255, 255, 255, 1.000)\",\"yaxis1\":{\"showticklabels\":true,\"gridwidth\":0.5,\"tickvals\":[0.0,0.2,0.4,0.6000000000000001,0.8],\"visible\":true,\"ticks\":\"inside\",\"range\":[-0.10529699466711809,0.9991039736593169],\"domain\":[0.07581474190726165,0.9901574803149606],\"tickmode\":\"array\",\"linecolor\":\"rgba(0, 0, 0, 1.000)\",\"showgrid\":true,\"title\":\"\",\"mirror\":false,\"tickangle\":0,\"showline\":true,\"gridcolor\":\"rgba(0, 0, 0, 0.100)\",\"titlefont\":{\"color\":\"rgba(0, 0, 0, 1.000)\",\"family\":\"sans-serif\",\"size\":15},\"tickcolor\":\"rgb(0, 0, 0)\",\"ticktext\":[\"0.0\",\"0.2\",\"0.4\",\"0.6\",\"0.8\"],\"zeroline\":false,\"type\":\"-\",\"tickfont\":{\"color\":\"rgba(0, 0, 0, 1.000)\",\"family\":\"sans-serif\",\"size\":11},\"zerolinecolor\":\"rgba(0, 0, 0, 1.000)\",\"anchor\":\"x1\"},\"legend\":{\"bordercolor\":\"rgba(0, 0, 0, 1.000)\",\"bgcolor\":\"rgba(255, 255, 255, 1.000)\",\"font\":{\"color\":\"rgba(0, 0, 0, 1.000)\",\"family\":\"sans-serif\",\"size\":11},\"y\":1.0,\"x\":1.0},\"width\":600});\n",
       "    </script>\n"
      ]
     },
     "execution_count": 90,
     "metadata": {
      "comm_id": "2e88a2e7-c566-430e-be30-3e6748e5d647",
      "reactive": true
     },
     "output_type": "execute_result"
    }
   ],
   "source": [
    "\n",
    "f(t)=1/(t^2+1)\n",
    "\n",
    "function P_k(f::Function,n::Number,x0::Number,xn::Number, x::Number)\n",
    "    ##f es la función a interpolar, n el grado, x0 conce comienza el intervalo, xn donde termina, x el punto en el que se evaluará el polinomio\n",
    "    ##Recordemos que n puntos nos dan un polinomio de grado n-1\n",
    "    particion=linspace(x0,xn,n+1)\n",
    "    valores_f=f.(particion)\n",
    "    A=zeros(n+1,n+1)\n",
    "    A[:,1]=valores_f\n",
    "    for j in 2:n+1\n",
    "        for i in j:n+1\n",
    "            A[i,j]=(A[i,j-1]-A[i-1,j-1])/(particion[i]-particion[i-j+1])\n",
    "        end\n",
    "    end\n",
    "    coeficientes=diag(A)\n",
    "  \n",
    "   \n",
    "        poli=coeficientes[n+1]\n",
    "           for k in 1:n\n",
    "             poli=poli*(x-particion[n+1-k])+coeficientes[n+1-k]\n",
    "           end\n",
    "    \n",
    "    return(poli)\n",
    "end\n",
    "function evaluapoli(f::Function, n::Number, x0::Number, xn::Number, m::Number)\n",
    "    part=linspace(x0,xn,m)\n",
    "    evaluaciones=zeros(m)\n",
    "    for i in 1:m\n",
    "        evaluaciones[i]=P_k(f,n,x0,xn, part[i])\n",
    "    end\n",
    "    return(evaluaciones)\n",
    "end\n",
    "intervalo=linspace(-5,5,100)\n",
    "f_int=f.(intervalo)\n",
    "@manipulate for Grado in 2:10\n",
    "    P_n=evaluapoli(f,Grado,-5,5,100)\n",
    "    plot(intervalo, P_n, xlabel=\"X\", label=\"Polinomio grado $Grado\", color=\"red\")\n",
    "    plot!(intervalo,f_int, label=\"Funcion\", color=\"green\")\n",
    "end\n",
    "\n"
   ]
  },
  {
   "cell_type": "markdown",
   "metadata": {},
   "source": [
    "## Ejercicio 4   $\\quad$   <font color = blue>*Probabilidad de una Gaussina*</font>\n",
    "\n",
    "Sea $$f(x)=\\dfrac{\\exp(-0.5x^2)}{\\sqrt{2\\pi}}$$\n",
    "\n",
    "Queremos aproximar $$P(0\\leq x\\leq b) = \\int_0^b f(x)dx$$\n",
    "\n",
    "por cuadratura gaussiana de $n$ puntos\n",
    "\n",
    "Elabore una rutina que reciba \n",
    " * el número de nodos $n$\n",
    " * el límite de integración $b$\n",
    "\n",
    "La  rutina debe devolver \n",
    " * $I$ = la aproximación de $P(0\\leq x\\leq b)$\n",
    "   por cuadratura gaussiana de $n$ puntos\n",
    "\n",
    "**Nota:** Dentro de la rutina haga una válidación para que solo pueda\n",
    "recibir los valores de $n=2,3,4$. En caso de que $n$ tenga otro valor,\n",
    "Devuelva un mensaje de error."
   ]
  },
  {
   "cell_type": "code",
   "execution_count": null,
   "metadata": {},
   "outputs": [],
   "source": []
  },
  {
   "cell_type": "code",
   "execution_count": null,
   "metadata": {},
   "outputs": [],
   "source": []
  },
  {
   "cell_type": "markdown",
   "metadata": {},
   "source": [
    "## Ejercicio 5  $\\quad$   <font color = blue>*Ecuación Integral*</font>\n",
    "\n",
    "### 5a\n",
    "Generamos una partición uniforme del intervalo $[-6,6]$ en $25$ puntos \n",
    " \n",
    " $$-6=s_1<s_2<\\dots <s_{25}=6.$$\n",
    " \n",
    " Sean $\\omega_1,...,\\omega_{25}$ los pesos de la regla de cuadratura \n",
    " \n",
    " $$\\int_{-6}^{\\,6} k(t)dt=\\sum_{i=1}^{25}\\omega_j k(s_j).$$\n",
    " \n",
    "¿Cuánto valen los pesos si usamos la cuadratura compuesta del trapecio?"
   ]
  },
  {
   "cell_type": "markdown",
   "metadata": {},
   "source": []
  },
  {
   "cell_type": "markdown",
   "metadata": {},
   "source": [
    "¿Cuánto valen los pesos si usamos la cuadratura compuesta de Simpson?"
   ]
  },
  {
   "cell_type": "markdown",
   "metadata": {},
   "source": []
  },
  {
   "cell_type": "markdown",
   "metadata": {},
   "source": [
    "### 5b \n",
    "Sean $k,g:[-6,6]\\to\\mathbb R$ las funciones dadas por\n",
    "\n",
    "$$k(s) = \n",
    " \\begin{cases}\n",
    "  1 + \\cos\\left(\\dfrac{s\\pi}{3}\\right),  & \\text{si $|s|<3$,} \\\\ \n",
    "  0, & \\text{si $|s|\\geq 3$,} \n",
    " \\end{cases}$$ \n",
    "\n",
    "$$g(s) = (6-|s|)\\left(1+\\dfrac{1}{2}\\cos\\left(\\dfrac{s\\pi}{3}\\right)\\right)\n",
    " + \\dfrac{9}{2\\pi}\\sin\\left(\\dfrac{|s|\\pi}{3}\\right).$$\n",
    " \n",
    "A partir de  los valores \n",
    "$g(s_1),\\dots,g(s_{n+1})$, queremos calcular los valores \n",
    "$f(s_1),\\dots,f(s_{n+1})$ de la función $f:[-6,6]\\to\\mathbb R$ que cumple \n",
    "la ecuación integral \n",
    "\n",
    "$$\\int_{-6}^{\\,6}k(s-t)f(t) dt = g(s).$$\n",
    "\n",
    "Lo que hacemos es discretizar la ecuación integral en el sistema de ecuaciones lineales \n",
    "\n",
    "$$\\begin{array}{cccc}\n",
    "\\begin{pmatrix}\n",
    " \\omega_1k(s_1-s_1) & \\omega_2k(s_1-s_2) & \\dots & \\omega_{25}k(s_1-s_{25}) \\\\\n",
    " \\omega_1k(s_2-s_1) & \\omega_2k(s_2-s_2) & \\dots & \\omega_{25}k(s_2-s_{25}) \\\\\n",
    " \\vdots & \\vdots & & \\vdots \\\\\n",
    " \\omega_1k(s_{25}-s_1) & \\omega_2k(s_{25}-s_2) & \\dots & \\omega_{25}k(s_{25}-s_{25})\n",
    "\\end{pmatrix} &\n",
    "\\begin{pmatrix}\n",
    "f(s_1) \\\\ f(s_2) \\\\ \\vdots \\\\ f(s_{25})\n",
    "\\end{pmatrix} & = &\n",
    "\\begin{pmatrix}\n",
    "g(s_1) \\\\ g(s_2) \\\\ \\vdots \\\\ g(s_{25})\n",
    "\\end{pmatrix} \\\\\n",
    "A & x & & b\n",
    "\\end{array}$$\n",
    "\n",
    "mediante el método de colocación que usa los $26$ puntos $s_i$ y la regla de cuadratura de (a)\n",
    "\n",
    "Usando los pesos para la regla de cuadratura de Simpson,\n",
    "resuelva el sistema de ecuaciones lineales por factorización LU. \n"
   ]
  },
  {
   "cell_type": "code",
   "execution_count": null,
   "metadata": {},
   "outputs": [],
   "source": []
  },
  {
   "cell_type": "markdown",
   "metadata": {},
   "source": [
    "Gráfique los puntos $(s_j,x_j)$ de la aproximación y los puntos $(s_j,k(s_j))$ de la solución $f(t)=k(t)$ en una misma figura. "
   ]
  },
  {
   "cell_type": "code",
   "execution_count": null,
   "metadata": {},
   "outputs": [],
   "source": []
  },
  {
   "cell_type": "markdown",
   "metadata": {},
   "source": [
    "¿Hay diferencias notables entre las gráficas?"
   ]
  },
  {
   "cell_type": "markdown",
   "metadata": {},
   "source": []
  },
  {
   "cell_type": "markdown",
   "metadata": {},
   "source": [
    "### 5c\n",
    " Ahora, usando los pesos para la regla de cuadratura del trapecio, \n",
    " resuelva el sistema de  ecuaciones lineales \n",
    " por factorización LU. Gráfique los puntos $(s_j,x_j)$ de  y $(s_j,k(s_j))$ \n",
    " en una misma figura. "
   ]
  },
  {
   "cell_type": "code",
   "execution_count": null,
   "metadata": {},
   "outputs": [],
   "source": []
  },
  {
   "cell_type": "markdown",
   "metadata": {},
   "source": [
    "¿Cúal de las dos reglas de cuadratura conviene usar?"
   ]
  },
  {
   "cell_type": "markdown",
   "metadata": {},
   "source": []
  }
 ],
 "metadata": {
  "kernelspec": {
   "display_name": "Julia 0.6.2",
   "language": "julia",
   "name": "julia-0.6"
  },
  "language_info": {
   "file_extension": ".jl",
   "mimetype": "application/julia",
   "name": "julia",
   "version": "0.6.2"
  }
 },
 "nbformat": 4,
 "nbformat_minor": 2
}

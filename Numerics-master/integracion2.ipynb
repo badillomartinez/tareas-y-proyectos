{
 "cells": [
  {
   "cell_type": "markdown",
   "metadata": {},
   "source": [
    "# <font color=purple> Regla compuesta de Simpson </font>"
   ]
  },
  {
   "cell_type": "code",
   "execution_count": 1,
   "metadata": {},
   "outputs": [
    {
     "name": "stderr",
     "output_type": "stream",
     "text": [
      "\u001b[1m\u001b[36mINFO: \u001b[39m\u001b[22m\u001b[36mPrecompiling module Plots.\n",
      "\u001b[39mCannot write cache file \"D:\\Archivos de Programa\\Julia Pro\\pkgs-0.6.2.2\\lib\\v0.6\\Plots.ji\".\n"
     ]
    },
    {
     "ename": "LoadError",
     "evalue": "\u001b[91mFailed to precompile Plots to D:\\Archivos de Programa\\Julia Pro\\pkgs-0.6.2.2\\lib\\v0.6\\Plots.ji.\u001b[39m",
     "output_type": "error",
     "traceback": [
      "\u001b[91mFailed to precompile Plots to D:\\Archivos de Programa\\Julia Pro\\pkgs-0.6.2.2\\lib\\v0.6\\Plots.ji.\u001b[39m",
      "",
      "Stacktrace:",
      " [1] \u001b[1mcompilecache\u001b[22m\u001b[22m\u001b[1m(\u001b[22m\u001b[22m::String\u001b[1m)\u001b[22m\u001b[22m at \u001b[1m.\\loading.jl:710\u001b[22m\u001b[22m",
      " [2] \u001b[1m_require\u001b[22m\u001b[22m\u001b[1m(\u001b[22m\u001b[22m::Symbol\u001b[1m)\u001b[22m\u001b[22m at \u001b[1m.\\loading.jl:497\u001b[22m\u001b[22m",
      " [3] \u001b[1mrequire\u001b[22m\u001b[22m\u001b[1m(\u001b[22m\u001b[22m::Symbol\u001b[1m)\u001b[22m\u001b[22m at \u001b[1m.\\loading.jl:405\u001b[22m\u001b[22m",
      " [4] \u001b[1minclude_string\u001b[22m\u001b[22m\u001b[1m(\u001b[22m\u001b[22m::String, ::String\u001b[1m)\u001b[22m\u001b[22m at \u001b[1m.\\loading.jl:522\u001b[22m\u001b[22m"
     ]
    }
   ],
   "source": [
    "using Plots\n",
    "plotly()\n",
    "año = collect(linspace(1997,2005,9))\n",
    "edad = [34.7,34.9,35.2,35.3,35.6,35.7,35.9,36,36.2]\n",
    "println(\" año     edad \")\n",
    "for i ∈ 1:length(año)\n",
    "    println(\"$(año[i])   $(edad[i])\")\n",
    "end\n",
    "scatter(año,edad,grid=false,legend=false,title=\"Edad Media\",xlabel=\"año\",\n",
    "        ylabel=\"edad\")"
   ]
  },
  {
   "cell_type": "markdown",
   "metadata": {},
   "source": [
    "- 9 puntos $\\longrightarrow$ 8 subintervalos  $\\longrightarrow$ 4 cuadráticas $q_1,q_2,q_3,q_4$  \n",
    "\n",
    "- <font color=red> el número de subintervalos debe ser par</font>\n",
    "\n",
    "Cada cuadrática abarca 3 nodos\n",
    "\n",
    "$$f(t) \\approx\n",
    " \\begin{cases}\n",
    "  q_1(t) & 1997 \\leq t  \\leq 1999,\\\\\n",
    "  q_2(t) & 1999 \\leq t  \\leq 2001,\\\\\n",
    "  q_3(t) & 2001 \\leq t  \\leq 2003,\\\\\n",
    "  q_4(t) & 2003 \\leq t  \\leq 2005,\n",
    " \\end{cases}$$"
   ]
  },
  {
   "cell_type": "code",
   "execution_count": 2,
   "metadata": {},
   "outputs": [
    {
     "data": {
      "text/plain": [
       "lg (generic function with 1 method)"
      ]
     },
     "execution_count": 2,
     "metadata": {},
     "output_type": "execute_result"
    }
   ],
   "source": [
    "function lg(datax::Array{Float64},datay::Array{Float64},pa::Array{Float64})\n",
    "  m = length(pa) \n",
    "  n = length(datax)  \n",
    "  L = ones(m,n)\n",
    "  for j ∈ 1:n\n",
    "        for k ∈ 1:n \n",
    "              if k!=j\n",
    "                 L[:,j] .*= ( pa - datax[k] )/( datax[j] - datax[k] )\n",
    "              end\n",
    "        end\n",
    "  end        \n",
    "  return L*datay\n",
    " end"
   ]
  },
  {
   "cell_type": "code",
   "execution_count": 3,
   "metadata": {},
   "outputs": [
    {
     "ename": "LoadError",
     "evalue": "\u001b[91mUndefVarError: año not defined\u001b[39m",
     "output_type": "error",
     "traceback": [
      "\u001b[91mUndefVarError: año not defined\u001b[39m",
      "",
      "Stacktrace:",
      " [1] \u001b[1minclude_string\u001b[22m\u001b[22m\u001b[1m(\u001b[22m\u001b[22m::String, ::String\u001b[1m)\u001b[22m\u001b[22m at \u001b[1m.\\loading.jl:522\u001b[22m\u001b[22m"
     ]
    }
   ],
   "source": [
    "px1 = collect(linspace(año[1],año[3],51))\n",
    "py1 = lg(año[1:3],edad[1:3],px1)\n",
    "px2 = collect(linspace(año[3],año[5],51))\n",
    "py2 = lg(año[3:5],edad[3:5],px2)\n",
    "px3 = collect(linspace(año[5],año[7],51))\n",
    "py3 = lg(año[5:7],edad[5:7],px3)\n",
    "px4 = collect(linspace(año[7],año[9],51))\n",
    "py4 = lg(año[7:9],edad[7:9],px4)\n",
    "plot!(px1,py1,color =\"#5760e3\",label=\"q₁(t)\",linewidth=6)\n",
    "plot!(px2,py2,color =\"#15f2f9\",label=\"q₂(t)\",linewidth=6)\n",
    "plot!(px3,py3,color =\"#608cf7\",label=\"q₃(t)\",linewidth=6)\n",
    "plot!(px4,py4,color =\"#631a85\",label=\"q₄(t)\",linewidth=6,legend=true)"
   ]
  },
  {
   "cell_type": "markdown",
   "metadata": {},
   "source": [
    "$$\\int_{1997}^{2005} f(t)dt  \\approx \\int_{1997}^{1999} q_1(t)dt +\n",
    "\\int_{1999}^{2001} q_2(t)dt + \\int_{2001}^{2003} q_3(t)dt +\n",
    "\\int_{2003}^{2005} q_4(t)dt $$ \n",
    "\n",
    "### área bajo la cuadrática $q_1$\n",
    "\n",
    "$q_1$ pasa por puntos $(1997,34.7),(1998,34.9),(1999,35.2)$\n",
    "\n",
    "**Base de Lagrange**\n",
    "\n",
    "$$q_1(t)=34.7 \\underbrace{\\dfrac{(t-1998)(t-1999)}{(1997-1998)(1997-1999)}}_{l_{1,1}(t)}\n",
    "+34.9 \\underbrace{\\dfrac{(t-1997)(t-1999)}{(1998-1997)(1998-1999)}}_{l_{1,2}(t)}\n",
    "+35.2\\underbrace{\\dfrac{(t-1997)(t-1998)}{(1999-1997)(1999-1998)}}_{l_{1,3}(t)}$$\n",
    "\n",
    "Integra por partes los polinomios $l_{1,1},l_{1,2},l_{1,3}$ de la base de Lagrange\n",
    "\n",
    "\n",
    "$$\\int_{1997}^{1999}q_1(t)dt=  \\left(\\dfrac{1}{3}\\times 34.7\\right) + \n",
    "\\left(\\dfrac{4}{3}\\times34.9\\right) +\n",
    "\\left(\\dfrac{1}{3}\\times 35.2\\right)$$\n",
    "\n",
    "esta es la <font color=blue> Regla Simple de Simpson </font>\n",
    "\n",
    "pesos:<font color =red> $\\dfrac{1}{3},\\dfrac{4}{3},\\dfrac{1}{3}$</font>"
   ]
  },
  {
   "cell_type": "code",
   "execution_count": 4,
   "metadata": {},
   "outputs": [
    {
     "ename": "LoadError",
     "evalue": "\u001b[91mUndefVarError: plot not defined\u001b[39m",
     "output_type": "error",
     "traceback": [
      "\u001b[91mUndefVarError: plot not defined\u001b[39m",
      "",
      "Stacktrace:",
      " [1] \u001b[1minclude_string\u001b[22m\u001b[22m\u001b[1m(\u001b[22m\u001b[22m::String, ::String\u001b[1m)\u001b[22m\u001b[22m at \u001b[1m.\\loading.jl:522\u001b[22m\u001b[22m"
     ]
    }
   ],
   "source": [
    "plot(px1,py1,fill=(0,\"#5760e3\"),color=\"#5760e3\",label=\"q₁(t)\",\n",
    "     title=\"Edad Media\",xlabel=\"año\",ylabel=\"edad\",grid=false,linewidth=2)\n",
    "plot!(px2,py2,color =\"#15f2f9\",label=\"q₂(t)\",linewidth=2)\n",
    "plot!(px3,py3,color =\"#608cf7\",label=\"q₃(t)\",linewidth=2)\n",
    "plot!(px4,py4,color =\"#631a85\",label=\"q₄(t)\",linewidth=2,legend=true)"
   ]
  },
  {
   "cell_type": "markdown",
   "metadata": {},
   "source": [
    "## área bajo la cuadrática $q_2$\n",
    "\n",
    "$q_2$ pasa por puntos $(1999,35.2),(2000,35.3),(2001,35.6)$\n",
    "\n",
    "**Base de Lagrange**\n",
    "\n",
    "$$q_2(t)=35.2\\underbrace{\\dfrac{(t-2000)(t-2001)}{(1999-2000)(1999-2001)}}_{l_{2,1}(t)}\n",
    "+35.3\\underbrace{\\dfrac{(t-1999)(t-2001)}{(2000-1999)(2000-2001)}}_{l_{2,2}(t)}\n",
    "+35.6\\underbrace{\\dfrac{(t-1999)(t-2000)}{(2001-1999)(2001-2000)}}_{l_{2,3}(t)}$$\n",
    "\n",
    "Integra por partes los polinomios $l_{2,1},l_{2,2},l_{2,3}$ de la base de Lagrange\n",
    "\n",
    "$$\\int_{1999}^{2001}q_2(t)dt=  \\left(\\dfrac{1}{3}\\times 35.2\\right) + \n",
    "\\left(\\dfrac{4}{3}\\times 35.3\\right) +\n",
    "\\left(\\dfrac{1}{3}\\times 35.6\\right)$$\n",
    "\n",
    "pesos:<font color =red> $\\dfrac{1}{3},\\dfrac{4}{3},\\dfrac{1}{3}$</font>"
   ]
  },
  {
   "cell_type": "code",
   "execution_count": 5,
   "metadata": {},
   "outputs": [
    {
     "ename": "LoadError",
     "evalue": "\u001b[91mUndefVarError: plot not defined\u001b[39m",
     "output_type": "error",
     "traceback": [
      "\u001b[91mUndefVarError: plot not defined\u001b[39m",
      "",
      "Stacktrace:",
      " [1] \u001b[1minclude_string\u001b[22m\u001b[22m\u001b[1m(\u001b[22m\u001b[22m::String, ::String\u001b[1m)\u001b[22m\u001b[22m at \u001b[1m.\\loading.jl:522\u001b[22m\u001b[22m"
     ]
    }
   ],
   "source": [
    "plot(px1,py1,fill=(0,\"#5760e3\"),color=\"#5760e3\",label=\"q₁(t)\",\n",
    "     title=\"Edad Media\",xlabel=\"año\",ylabel=\"edad\",grid=false,linewidth=2)\n",
    "plot!(px2,py2,fill=(0,\"#15f2f9\"),color=\"#15f2f9\",label=\"q₂(t)\",linewidth=2)\n",
    "plot!(px3,py3,color=\"#608cf7\",label=\"q₃(t)\",linewidth=2)\n",
    "plot!(px4,py4,color =\"#631a85\",label=\"q₄(t)\",linewidth=2,legend=true)"
   ]
  },
  {
   "cell_type": "markdown",
   "metadata": {},
   "source": [
    "## área bajo la cuadrática $q_3$\n",
    "\n",
    "$q_3$ pasa por puntos $(2001,35.6),(2002,35.7),(2003,35.9)$\n",
    "\n",
    "**Base de Lagrange**\n",
    "\n",
    "$$q_3(t)=35.6\\underbrace{\\dfrac{(t-2002)(t-2003)}{(2001-2002)(2001-2003)}}_{l_{3,1}(t)}\n",
    "+35.7\\underbrace{\\dfrac{(t-2001)(t-2003)}{(2002-2001)(2002-2003)}}_{l_{3,2}(t)}\n",
    "+35.9\\underbrace{\\dfrac{(t-2001)(t-2002)}{(2003-2001)(2003-2002)}}_{l_{3,3}(t)}$$\n",
    "\n",
    "Integra por partes los polinomios $l_{3,1},l_{3,2},l_{3,3}$ de la base de Lagrange\n",
    "\n",
    "$$\\int_{2001}^{2003}q_3(t)dt=  \\left(\\dfrac{1}{3}\\times 35.6\\right) + \n",
    "\\left(\\dfrac{4}{3}\\times 35.7\\right) +\n",
    "\\left(\\dfrac{1}{3}\\times 35.9\\right)$$\n",
    "\n",
    "pesos:<font color =red> $\\dfrac{1}{3},\\dfrac{4}{3},\\dfrac{1}{3}$</font>"
   ]
  },
  {
   "cell_type": "code",
   "execution_count": 6,
   "metadata": {},
   "outputs": [
    {
     "ename": "LoadError",
     "evalue": "\u001b[91mUndefVarError: plot not defined\u001b[39m",
     "output_type": "error",
     "traceback": [
      "\u001b[91mUndefVarError: plot not defined\u001b[39m",
      "",
      "Stacktrace:",
      " [1] \u001b[1minclude_string\u001b[22m\u001b[22m\u001b[1m(\u001b[22m\u001b[22m::String, ::String\u001b[1m)\u001b[22m\u001b[22m at \u001b[1m.\\loading.jl:522\u001b[22m\u001b[22m"
     ]
    }
   ],
   "source": [
    "plot(px1,py1,fill=(0,\"#5760e3\"),color=\"#5760e3\",label=\"q₁(t)\",\n",
    "     title=\"Edad Media\",xlabel=\"año\",ylabel=\"edad\",grid=false,linewidth=2)\n",
    "plot!(px2,py2,fill=(0,\"#15f2f9\"),color=\"#15f2f9\",label=\"q₂(t)\",linewidth=2)\n",
    "plot!(px3,py3,fill=(0,\"#608cf7\"),color=\"#608cf7\",label=\"q₃(t)\",linewidth=2)\n",
    "plot!(px4,py4,color =\"#631a85\",label=\"q₄(t)\",linewidth=2,legend=true)"
   ]
  },
  {
   "cell_type": "markdown",
   "metadata": {},
   "source": [
    "## área bajo la cuadrática $q_4$\n",
    "\n",
    "$q_4$ pasa por puntos $(2003,35.9),(2004,36),(2005,36.2)$\n",
    "\n",
    "**Base de Lagrange**\n",
    "\n",
    "$$q_4(t)=35.9\\underbrace{\\dfrac{(t-2004)(t-2005)}{(2003-2004)(2003-2005)}}_{l_{4,1}(t)}\n",
    "+36\\underbrace{\\dfrac{(t-2003)(t-2005)}{(2004-2003)(2004-2005)}}_{l_{4,2}(t)}\n",
    "+36.2\\underbrace{\\dfrac{(t-2003)(t-2004)}{(2005-2003)(2005-2004)}}_{l_{4,3}(t)}$$\n",
    "\n",
    "Integra por partes los polinomios $l_{4,1},l_{4,2},l_{4,3}$ de la base de Lagrange\n",
    "\n",
    "$$\\int_{2003}^{2005}l_4(t)dt=  \\left(\\dfrac{1}{3}\\times 35.9\\right) + \n",
    "\\left(\\dfrac{4}{3}\\times 36\\right) +\n",
    "\\left(\\dfrac{1}{3}\\times 36.2\\right)$$\n",
    "\n",
    "pesos:<font color =red> $\\dfrac{1}{3},\\dfrac{4}{3},\\dfrac{1}{3}$</font>"
   ]
  },
  {
   "cell_type": "code",
   "execution_count": 7,
   "metadata": {},
   "outputs": [
    {
     "ename": "LoadError",
     "evalue": "\u001b[91mUndefVarError: plot not defined\u001b[39m",
     "output_type": "error",
     "traceback": [
      "\u001b[91mUndefVarError: plot not defined\u001b[39m",
      "",
      "Stacktrace:",
      " [1] \u001b[1minclude_string\u001b[22m\u001b[22m\u001b[1m(\u001b[22m\u001b[22m::String, ::String\u001b[1m)\u001b[22m\u001b[22m at \u001b[1m.\\loading.jl:522\u001b[22m\u001b[22m"
     ]
    }
   ],
   "source": [
    "plot(px1,py1,fill=(0,\"#5760e3\"),color=\"#5760e3\",label=\"q₁(t)\",\n",
    "     title=\"Edad Media\",xlabel=\"año\",ylabel=\"edad\",grid=false,linewidth=2)\n",
    "plot!(px2,py2,fill=(0,\"#15f2f9\"),color=\"#15f2f9\",label=\"q₂(t)\",linewidth=2)\n",
    "plot!(px3,py3,fill=(0,\"#608cf7\"),color=\"#608cf7\",label=\"q₃(t)\",linewidth=2)\n",
    "plot!(px4,py4,fill=(0,\"#631a85\"),color =\"#631a85\",label=\"q₄(t)\",linewidth=2,legend=true)"
   ]
  },
  {
   "cell_type": "markdown",
   "metadata": {},
   "source": [
    "$$\\begin{array}{ll}\n",
    "\\int_{1997}^{2005} f(t)dt  & \n",
    "\\approx \\int_{1997}^{1999} l_1(t)dt +\n",
    "\\int_{1999}^{2001} l_2(t)dt + \\int_{2001}^{2003} l_3(t)dt +\n",
    "\\int_{2003}^{2005} l_4(t)dt\\\\\n",
    "& = \\left(\\dfrac{1}{3}\\times 34.7\\right) + \n",
    "\\left(\\dfrac{4}{3}\\times34.9\\right) +\n",
    "\\left(\\dfrac{1}{3}\\times 35.2\\right) \\\\\n",
    "& + \\left(\\dfrac{1}{3}\\times 35.2\\right) + \n",
    "\\left(\\dfrac{4}{3}\\times 35.3\\right) +\n",
    "\\left(\\dfrac{1}{3}\\times 35.6\\right) \\\\\n",
    "& +  \\left(\\dfrac{1}{3}\\times 35.6\\right) + \n",
    "\\left(\\dfrac{4}{3}\\times 35.7\\right) +\n",
    "\\left(\\dfrac{1}{3}\\times 35.9\\right) \\\\\n",
    "& + \\left(\\dfrac{1}{3}\\times 35.9\\right) + \n",
    "\\left(\\dfrac{4}{3}\\times 36\\right) +\n",
    "\\left(\\dfrac{1}{3}\\times 36.2\\right)\n",
    "\\end{array}$$"
   ]
  },
  {
   "cell_type": "code",
   "execution_count": 8,
   "metadata": {},
   "outputs": [
    {
     "name": "stdout",
     "output_type": "stream",
     "text": [
      "∫₁₉₉₇¹⁹⁹⁹ f(t)dt = 283.96666666666664\n"
     ]
    }
   ],
   "source": [
    "Ia = (34.7 + 4*34.9 + 2*35.2 + 4*35.3 + 2*35.6 + 4*35.7 + 2*35.9 + 4*36 + 36.2)/3\n",
    "println(\"∫₁₉₉₇¹⁹⁹⁹ f(t)dt = $Ia\")"
   ]
  },
  {
   "cell_type": "markdown",
   "metadata": {},
   "source": [
    "Regla compuesta a partir de reglas simples:\n",
    "\n",
    "- $n$ subintervalos de misma longitud $l$ $\\longrightarrow$ $\\dfrac{n}{2}$ subintervalos de misma longitud $2l$\n",
    "\n",
    "- en cada subintervalo de longitud $2l$ aplica regla simple de Simpson  \n",
    "\n",
    "- suma contribuciones\n",
    "\n",
    "$$\\begin{array}{l} \\\\  \\end{array}$$\n",
    "\n",
    "<font color=green>\n",
    "$$\\begin{array}{ll}\n",
    "\\text{Regla compuesta de Simpson }  \n",
    "& =  \\dfrac{incremento}{3}\\left[\\right. \n",
    "f(1º\\ nodo) + 4f(2º\\ nodo) + 2f(3º\\ nodo) + 2f(4º\\ nodo)  \\\\ \n",
    " & + 2f(5º\\ nodo) + 4f(6º\\ nodo) + 2f(7º\\ nodo) + 4f(8º\\ nodo) + f(9º\\ nodo)\\left.\\right]\n",
    " \\end{array}$$\n",
    "</font>    "
   ]
  },
  {
   "cell_type": "code",
   "execution_count": null,
   "metadata": {},
   "outputs": [],
   "source": [
    "\n",
    "\n",
    "\n"
   ]
  },
  {
   "cell_type": "code",
   "execution_count": null,
   "metadata": {},
   "outputs": [],
   "source": []
  }
 ],
 "metadata": {
  "kernelspec": {
   "display_name": "Julia 0.6.2",
   "language": "julia",
   "name": "julia-0.6"
  },
  "language_info": {
   "file_extension": ".jl",
   "mimetype": "application/julia",
   "name": "julia",
   "version": "0.6.2"
  }
 },
 "nbformat": 4,
 "nbformat_minor": 2
}

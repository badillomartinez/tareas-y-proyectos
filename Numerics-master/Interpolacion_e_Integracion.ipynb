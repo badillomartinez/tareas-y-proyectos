{
 "cells": [
  {
   "cell_type": "markdown",
   "metadata": {},
   "source": [
    "# <font color=purple>Interpolación</font> "
   ]
  },
  {
   "cell_type": "code",
   "execution_count": 13,
   "metadata": {},
   "outputs": [],
   "source": [
    "using Plots\n",
    "plotly()\n",
    "datax = [0.15,2.3,3.15,4.85,6.25,7.95]\n",
    "datay = [4.79867,4.49013,4.2243,3.47313,2.66674,1.511909];"
   ]
  },
  {
   "cell_type": "code",
   "execution_count": 4,
   "metadata": {},
   "outputs": [
    {
     "data": {
      "application/vnd.plotly.v1+json": {
       "data": [
        {
         "colorbar": {
          "title": ""
         },
         "marker": {
          "color": [
           "rgba(0, 128, 0, 1.000)",
           "rgba(0, 128, 0, 1.000)",
           "rgba(0, 128, 0, 1.000)",
           "rgba(0, 128, 0, 1.000)",
           "rgba(0, 128, 0, 1.000)",
           "rgba(0, 128, 0, 1.000)"
          ],
          "line": {
           "color": [
            "rgba(0, 0, 0, 1.000)",
            "rgba(0, 0, 0, 1.000)",
            "rgba(0, 0, 0, 1.000)",
            "rgba(0, 0, 0, 1.000)",
            "rgba(0, 0, 0, 1.000)",
            "rgba(0, 0, 0, 1.000)"
           ],
           "width": 1
          },
          "size": 8,
          "symbol": "circle"
         },
         "mode": "markers",
         "name": "y1",
         "showlegend": true,
         "type": "scatter",
         "x": [
          0.15,
          2.3,
          3.15,
          4.85,
          6.25,
          7.95
         ],
         "xaxis": "x1",
         "y": [
          4.79867,
          4.49013,
          4.2243,
          3.47313,
          2.66674,
          1.511909
         ],
         "yaxis": "y1"
        }
       ],
       "layout": {
        "annotations": [],
        "height": 400,
        "margin": {
         "b": 20,
         "l": 0,
         "r": 0,
         "t": 20
        },
        "paper_bgcolor": "rgba(255, 255, 255, 1.000)",
        "plot_bgcolor": "rgba(255, 255, 255, 1.000)",
        "showlegend": false,
        "width": 600,
        "xaxis1": {
         "anchor": "y1",
         "domain": [
          0.07646908719743364,
          0.9934383202099737
         ],
         "gridcolor": "rgba(0, 0, 0, 0.100)",
         "gridwidth": 0.5,
         "linecolor": "rgba(0, 0, 0, 1.000)",
         "mirror": false,
         "range": [
          -0.08399999999999999,
          8.184000000000001
         ],
         "showgrid": false,
         "showline": true,
         "showticklabels": true,
         "tickangle": 0,
         "tickcolor": "rgb(0, 0, 0)",
         "tickfont": {
          "color": "rgba(0, 0, 0, 1.000)",
          "family": "sans-serif",
          "size": 11
         },
         "tickmode": "array",
         "ticks": "inside",
         "ticktext": [
          "0",
          "2",
          "4",
          "6",
          "8"
         ],
         "tickvals": [
          0,
          2,
          4,
          6,
          8
         ],
         "title": "x",
         "titlefont": {
          "color": "rgba(0, 0, 0, 1.000)",
          "family": "sans-serif",
          "size": 15
         },
         "type": "-",
         "visible": true,
         "zeroline": false,
         "zerolinecolor": "rgba(0, 0, 0, 1.000)"
        },
        "yaxis1": {
         "anchor": "x1",
         "domain": [
          0.07581474190726165,
          0.9901574803149606
         ],
         "gridcolor": "rgba(0, 0, 0, 0.100)",
         "gridwidth": 0.5,
         "linecolor": "rgba(0, 0, 0, 1.000)",
         "mirror": false,
         "range": [
          1.41330617,
          4.89727283
         ],
         "showgrid": false,
         "showline": true,
         "showticklabels": true,
         "tickangle": 0,
         "tickcolor": "rgb(0, 0, 0)",
         "tickfont": {
          "color": "rgba(0, 0, 0, 1.000)",
          "family": "sans-serif",
          "size": 11
         },
         "tickmode": "array",
         "ticks": "inside",
         "ticktext": [
          "1.5",
          "2.0",
          "2.5",
          "3.0",
          "3.5",
          "4.0",
          "4.5"
         ],
         "tickvals": [
          1.5,
          2,
          2.5,
          3,
          3.5,
          4,
          4.5
         ],
         "title": "y",
         "titlefont": {
          "color": "rgba(0, 0, 0, 1.000)",
          "family": "sans-serif",
          "size": 15
         },
         "type": "-",
         "visible": true,
         "zeroline": false,
         "zerolinecolor": "rgba(0, 0, 0, 1.000)"
        }
       }
      },
      "text/html": [
       "<script src=\"file://D:\\Archivos de Programa\\Julia Pro\\pkgs-0.6.2.2\\v0.6\\Plots\\src\\backends\\..\\..\\deps\\plotly-latest.min.js\"></script>    <div id=\"5a3bcee8-2333-4994-833f-2a3576f4874e\" style=\"width:600px;height:400px;\"></div>\n",
       "    <script>\n",
       "    PLOT = document.getElementById('5a3bcee8-2333-4994-833f-2a3576f4874e');\n",
       "    Plotly.plot(PLOT, [{\"showlegend\":true,\"mode\":\"markers\",\"xaxis\":\"x1\",\"colorbar\":{\"title\":\"\"},\"marker\":{\"symbol\":\"circle\",\"color\":[\"rgba(0, 128, 0, 1.000)\",\"rgba(0, 128, 0, 1.000)\",\"rgba(0, 128, 0, 1.000)\",\"rgba(0, 128, 0, 1.000)\",\"rgba(0, 128, 0, 1.000)\",\"rgba(0, 128, 0, 1.000)\"],\"line\":{\"color\":[\"rgba(0, 0, 0, 1.000)\",\"rgba(0, 0, 0, 1.000)\",\"rgba(0, 0, 0, 1.000)\",\"rgba(0, 0, 0, 1.000)\",\"rgba(0, 0, 0, 1.000)\",\"rgba(0, 0, 0, 1.000)\"],\"width\":1},\"size\":8},\"y\":[4.79867,4.49013,4.2243,3.47313,2.66674,1.511909],\"type\":\"scatter\",\"name\":\"y1\",\"yaxis\":\"y1\",\"x\":[0.15,2.3,3.15,4.85,6.25,7.95]}], {\"showlegend\":false,\"paper_bgcolor\":\"rgba(255, 255, 255, 1.000)\",\"xaxis1\":{\"showticklabels\":true,\"gridwidth\":0.5,\"tickvals\":[0.0,2.0,4.0,6.0,8.0],\"visible\":true,\"ticks\":\"inside\",\"range\":[-0.08399999999999999,8.184000000000001],\"domain\":[0.07646908719743364,0.9934383202099737],\"tickmode\":\"array\",\"linecolor\":\"rgba(0, 0, 0, 1.000)\",\"showgrid\":false,\"title\":\"x\",\"mirror\":false,\"tickangle\":0,\"showline\":true,\"gridcolor\":\"rgba(0, 0, 0, 0.100)\",\"titlefont\":{\"color\":\"rgba(0, 0, 0, 1.000)\",\"family\":\"sans-serif\",\"size\":15},\"tickcolor\":\"rgb(0, 0, 0)\",\"ticktext\":[\"0\",\"2\",\"4\",\"6\",\"8\"],\"zeroline\":false,\"type\":\"-\",\"tickfont\":{\"color\":\"rgba(0, 0, 0, 1.000)\",\"family\":\"sans-serif\",\"size\":11},\"zerolinecolor\":\"rgba(0, 0, 0, 1.000)\",\"anchor\":\"y1\"},\"annotations\":[],\"height\":400,\"margin\":{\"l\":0,\"b\":20,\"r\":0,\"t\":20},\"plot_bgcolor\":\"rgba(255, 255, 255, 1.000)\",\"yaxis1\":{\"showticklabels\":true,\"gridwidth\":0.5,\"tickvals\":[1.5,2.0,2.5,3.0,3.5,4.0,4.5],\"visible\":true,\"ticks\":\"inside\",\"range\":[1.41330617,4.89727283],\"domain\":[0.07581474190726165,0.9901574803149606],\"tickmode\":\"array\",\"linecolor\":\"rgba(0, 0, 0, 1.000)\",\"showgrid\":false,\"title\":\"y\",\"mirror\":false,\"tickangle\":0,\"showline\":true,\"gridcolor\":\"rgba(0, 0, 0, 0.100)\",\"titlefont\":{\"color\":\"rgba(0, 0, 0, 1.000)\",\"family\":\"sans-serif\",\"size\":15},\"tickcolor\":\"rgb(0, 0, 0)\",\"ticktext\":[\"1.5\",\"2.0\",\"2.5\",\"3.0\",\"3.5\",\"4.0\",\"4.5\"],\"zeroline\":false,\"type\":\"-\",\"tickfont\":{\"color\":\"rgba(0, 0, 0, 1.000)\",\"family\":\"sans-serif\",\"size\":11},\"zerolinecolor\":\"rgba(0, 0, 0, 1.000)\",\"anchor\":\"x1\"},\"width\":600});\n",
       "    </script>\n"
      ]
     },
     "execution_count": 4,
     "metadata": {},
     "output_type": "execute_result"
    }
   ],
   "source": [
    "scatter(datax,datay,xlabel=\"x\",ylabel=\"y\",color=\"green\",\n",
    "        grid=false,legend=false)"
   ]
  },
  {
   "cell_type": "markdown",
   "metadata": {},
   "source": [
    "## <font color =blue>Polinomio de Lagrange</font>"
   ]
  },
  {
   "cell_type": "code",
   "execution_count": 9,
   "metadata": {},
   "outputs": [
    {
     "data": {
      "text/plain": [
       "lg (generic function with 1 method)"
      ]
     },
     "execution_count": 9,
     "metadata": {},
     "output_type": "execute_result"
    }
   ],
   "source": [
    "function lg(datax::Array{Float64},datay::Array{Float64},pa::Array{Float64})\n",
    "  m = length(pa) \n",
    "  n = length(datax)  \n",
    "  L = ones(m,n)\n",
    "  for j ∈ 1:n\n",
    "        for k ∈ 1:n \n",
    "              if k!=j\n",
    "                 L[:,j] .*= ( pa - datax[k] )/( datax[j] - datax[k] )\n",
    "              end\n",
    "        end\n",
    "  end        \n",
    "  return L*datay\n",
    " end"
   ]
  },
  {
   "cell_type": "code",
   "execution_count": 10,
   "metadata": {},
   "outputs": [
    {
     "data": {
      "application/vnd.plotly.v1+json": {
       "data": [
        {
         "colorbar": {
          "title": ""
         },
         "marker": {
          "color": [
           "rgba(0, 128, 0, 1.000)",
           "rgba(0, 128, 0, 1.000)",
           "rgba(0, 128, 0, 1.000)",
           "rgba(0, 128, 0, 1.000)",
           "rgba(0, 128, 0, 1.000)",
           "rgba(0, 128, 0, 1.000)"
          ],
          "line": {
           "color": [
            "rgba(0, 0, 0, 1.000)",
            "rgba(0, 0, 0, 1.000)",
            "rgba(0, 0, 0, 1.000)",
            "rgba(0, 0, 0, 1.000)",
            "rgba(0, 0, 0, 1.000)",
            "rgba(0, 0, 0, 1.000)"
           ],
           "width": 1
          },
          "size": 8,
          "symbol": "circle"
         },
         "mode": "markers",
         "name": "y1",
         "showlegend": true,
         "type": "scatter",
         "x": [
          0.15,
          2.3,
          3.15,
          4.85,
          6.25,
          7.95
         ],
         "xaxis": "x1",
         "y": [
          4.79867,
          4.49013,
          4.2243,
          3.47313,
          2.66674,
          1.511909
         ],
         "yaxis": "y1"
        },
        {
         "colorbar": {
          "title": ""
         },
         "line": {
          "color": "rgba(227, 111, 71, 1.000)",
          "dash": "solid",
          "shape": "linear",
          "width": 1
         },
         "mode": "lines",
         "name": "y2",
         "showlegend": true,
         "type": "scatter",
         "x": [
          0.15,
          0.228,
          0.306,
          0.384,
          0.462,
          0.54,
          0.618,
          0.696,
          0.774,
          0.852,
          0.93,
          1.008,
          1.086,
          1.164,
          1.242,
          1.32,
          1.398,
          1.476,
          1.554,
          1.632,
          1.71,
          1.788,
          1.866,
          1.944,
          2.022,
          2.1,
          2.178,
          2.256,
          2.334,
          2.412,
          2.49,
          2.568,
          2.646,
          2.724,
          2.802,
          2.88,
          2.958,
          3.036,
          3.114,
          3.192,
          3.27,
          3.348,
          3.426,
          3.504,
          3.582,
          3.66,
          3.738,
          3.816,
          3.894,
          3.972,
          4.05,
          4.128,
          4.206,
          4.284,
          4.362,
          4.44,
          4.518,
          4.596,
          4.674,
          4.752,
          4.83,
          4.908,
          4.986,
          5.064,
          5.142,
          5.22,
          5.298,
          5.376,
          5.454,
          5.532,
          5.61,
          5.688,
          5.766,
          5.844,
          5.922,
          6,
          6.078,
          6.156,
          6.234,
          6.312,
          6.39,
          6.468,
          6.546,
          6.624,
          6.702,
          6.78,
          6.858,
          6.936,
          7.014,
          7.092,
          7.17,
          7.248,
          7.326,
          7.404,
          7.482,
          7.56,
          7.638,
          7.716,
          7.794,
          7.872,
          7.95
         ],
         "xaxis": "x1",
         "y": [
          4.79867,
          4.79683080999878,
          4.794288719302221,
          4.791042359839929,
          4.787090574131516,
          4.782432412257682,
          4.777067128831371,
          4.77099417996884,
          4.764213220260802,
          4.756724099743545,
          4.748526860870023,
          4.739621735480972,
          4.730009141776069,
          4.719689681284963,
          4.708664135838457,
          4.696933464539613,
          4.6844988007348345,
          4.671361448985001,
          4.657522882036596,
          4.642984737792783,
          4.627748816284554,
          4.6118170766418345,
          4.595191634064584,
          4.577874756793925,
          4.559868863083246,
          4.541176518169329,
          4.521800431243449,
          4.501743452422501,
          4.481008569720095,
          4.459598906017694,
          4.43751771603571,
          4.414768383304625,
          4.391354417136102,
          4.367279449594103,
          4.342547232465997,
          4.317161634233684,
          4.291126637044691,
          4.264446333683306,
          4.237124924541684,
          4.209166714590951,
          4.180576110352335,
          4.151357616868266,
          4.121515834673501,
          4.091055456766227,
          4.059981265579184,
          4.0282981299507705,
          3.9960110020961706,
          3.96312491457845,
          3.9296449772796813,
          3.8955763743720646,
          3.8609243612890203,
          3.8256942616963205,
          3.789891464463198,
          3.753521420633464,
          3.7165896403966094,
          3.6791016900589315,
          3.641063189014644,
          3.602479806716991,
          3.5633572596493566,
          3.5237013082963875,
          3.483517754115098,
          3.4428124365059882,
          3.401591229784161,
          3.3598600401504246,
          3.317624802662426,
          3.274891478205745,
          3.2316660504650145,
          3.1879545228950414,
          3.1437629156919167,
          3.0990972627641193,
          3.0539636087036466,
          3.0083680057571165,
          2.962316510796887,
          2.9158151822921665,
          2.8688700772801297,
          2.821487248337031,
          2.7736727405493213,
          2.7254325884847534,
          2.676772813163509,
          2.627699419029298,
          2.578218390920484,
          2.528335691041193,
          2.478057255932426,
          2.4273889934431807,
          2.3763367797015493,
          2.324906456085856,
          2.2731038261957472,
          2.220934652823318,
          2.168404654924225,
          2.115519504588803,
          2.06228482401317,
          2.008706182470345,
          1.9547890932813683,
          1.9005390107864022,
          1.8459613273158637,
          1.7910613701615232,
          1.7358443985476129,
          1.6803156006019626,
          1.6244800903270966,
          1.5683429045713548,
          1.511909
         ],
         "yaxis": "y1"
        }
       ],
       "layout": {
        "annotations": [
         {
          "font": {
           "color": "rgba(0, 0, 0, 1.000)",
           "family": "sans-serif",
           "size": 20
          },
          "rotation": 0,
          "showarrow": false,
          "text": "Polinomio Interpolante L(x)",
          "x": 0.5349537037037038,
          "xanchor": "center",
          "xref": "paper",
          "y": 1,
          "yanchor": "top",
          "yref": "paper"
         }
        ],
        "height": 400,
        "margin": {
         "b": 20,
         "l": 0,
         "r": 0,
         "t": 20
        },
        "paper_bgcolor": "rgba(255, 255, 255, 1.000)",
        "plot_bgcolor": "rgba(255, 255, 255, 1.000)",
        "showlegend": false,
        "width": 600,
        "xaxis1": {
         "anchor": "y1",
         "domain": [
          0.07646908719743364,
          0.9934383202099737
         ],
         "gridcolor": "rgba(0, 0, 0, 0.100)",
         "gridwidth": 0.5,
         "linecolor": "rgba(0, 0, 0, 1.000)",
         "mirror": false,
         "range": [
          -0.08399999999999999,
          8.184000000000001
         ],
         "showgrid": false,
         "showline": true,
         "showticklabels": true,
         "tickangle": 0,
         "tickcolor": "rgb(0, 0, 0)",
         "tickfont": {
          "color": "rgba(0, 0, 0, 1.000)",
          "family": "sans-serif",
          "size": 11
         },
         "tickmode": "array",
         "ticks": "inside",
         "ticktext": [
          "0",
          "2",
          "4",
          "6",
          "8"
         ],
         "tickvals": [
          0,
          2,
          4,
          6,
          8
         ],
         "title": "x",
         "titlefont": {
          "color": "rgba(0, 0, 0, 1.000)",
          "family": "sans-serif",
          "size": 15
         },
         "type": "-",
         "visible": true,
         "zeroline": false,
         "zerolinecolor": "rgba(0, 0, 0, 1.000)"
        },
        "yaxis1": {
         "anchor": "x1",
         "domain": [
          0.07581474190726165,
          0.9415463692038496
         ],
         "gridcolor": "rgba(0, 0, 0, 0.100)",
         "gridwidth": 0.5,
         "linecolor": "rgba(0, 0, 0, 1.000)",
         "mirror": false,
         "range": [
          1.41330617,
          4.89727283
         ],
         "showgrid": false,
         "showline": true,
         "showticklabels": true,
         "tickangle": 0,
         "tickcolor": "rgb(0, 0, 0)",
         "tickfont": {
          "color": "rgba(0, 0, 0, 1.000)",
          "family": "sans-serif",
          "size": 11
         },
         "tickmode": "array",
         "ticks": "inside",
         "ticktext": [
          "1.5",
          "2.0",
          "2.5",
          "3.0",
          "3.5",
          "4.0",
          "4.5"
         ],
         "tickvals": [
          1.5,
          2,
          2.5,
          3,
          3.5,
          4,
          4.5
         ],
         "title": "y",
         "titlefont": {
          "color": "rgba(0, 0, 0, 1.000)",
          "family": "sans-serif",
          "size": 15
         },
         "type": "-",
         "visible": true,
         "zeroline": false,
         "zerolinecolor": "rgba(0, 0, 0, 1.000)"
        }
       }
      },
      "text/html": [
       "<script src=\"file://D:\\Archivos de Programa\\Julia Pro\\pkgs-0.6.2.2\\v0.6\\Plots\\src\\backends\\..\\..\\deps\\plotly-latest.min.js\"></script>    <div id=\"8cddd48e-ba13-40b1-a555-5ae667a6a856\" style=\"width:600px;height:400px;\"></div>\n",
       "    <script>\n",
       "    PLOT = document.getElementById('8cddd48e-ba13-40b1-a555-5ae667a6a856');\n",
       "    Plotly.plot(PLOT, [{\"showlegend\":true,\"mode\":\"markers\",\"xaxis\":\"x1\",\"colorbar\":{\"title\":\"\"},\"marker\":{\"symbol\":\"circle\",\"color\":[\"rgba(0, 128, 0, 1.000)\",\"rgba(0, 128, 0, 1.000)\",\"rgba(0, 128, 0, 1.000)\",\"rgba(0, 128, 0, 1.000)\",\"rgba(0, 128, 0, 1.000)\",\"rgba(0, 128, 0, 1.000)\"],\"line\":{\"color\":[\"rgba(0, 0, 0, 1.000)\",\"rgba(0, 0, 0, 1.000)\",\"rgba(0, 0, 0, 1.000)\",\"rgba(0, 0, 0, 1.000)\",\"rgba(0, 0, 0, 1.000)\",\"rgba(0, 0, 0, 1.000)\"],\"width\":1},\"size\":8},\"y\":[4.79867,4.49013,4.2243,3.47313,2.66674,1.511909],\"type\":\"scatter\",\"name\":\"y1\",\"yaxis\":\"y1\",\"x\":[0.15,2.3,3.15,4.85,6.25,7.95]},{\"showlegend\":true,\"mode\":\"lines\",\"xaxis\":\"x1\",\"colorbar\":{\"title\":\"\"},\"line\":{\"color\":\"rgba(227, 111, 71, 1.000)\",\"shape\":\"linear\",\"dash\":\"solid\",\"width\":1},\"y\":[4.79867,4.79683080999878,4.794288719302221,4.791042359839929,4.787090574131516,4.782432412257682,4.777067128831371,4.77099417996884,4.764213220260802,4.756724099743545,4.748526860870023,4.739621735480972,4.730009141776069,4.719689681284963,4.708664135838457,4.696933464539613,4.6844988007348345,4.671361448985001,4.657522882036596,4.642984737792783,4.627748816284554,4.6118170766418345,4.595191634064584,4.577874756793925,4.559868863083246,4.541176518169329,4.521800431243449,4.501743452422501,4.481008569720095,4.459598906017694,4.43751771603571,4.414768383304625,4.391354417136102,4.367279449594103,4.342547232465997,4.317161634233684,4.291126637044691,4.264446333683306,4.237124924541684,4.209166714590951,4.180576110352335,4.151357616868266,4.121515834673501,4.091055456766227,4.059981265579184,4.0282981299507705,3.9960110020961706,3.96312491457845,3.9296449772796813,3.8955763743720646,3.8609243612890203,3.8256942616963205,3.789891464463198,3.753521420633464,3.7165896403966094,3.6791016900589315,3.641063189014644,3.602479806716991,3.5633572596493566,3.5237013082963875,3.483517754115098,3.4428124365059882,3.401591229784161,3.3598600401504246,3.317624802662426,3.274891478205745,3.2316660504650145,3.1879545228950414,3.1437629156919167,3.0990972627641193,3.0539636087036466,3.0083680057571165,2.962316510796887,2.9158151822921665,2.8688700772801297,2.821487248337031,2.7736727405493213,2.7254325884847534,2.676772813163509,2.627699419029298,2.578218390920484,2.528335691041193,2.478057255932426,2.4273889934431807,2.3763367797015493,2.324906456085856,2.2731038261957472,2.220934652823318,2.168404654924225,2.115519504588803,2.06228482401317,2.008706182470345,1.9547890932813683,1.9005390107864022,1.8459613273158637,1.7910613701615232,1.7358443985476129,1.6803156006019626,1.6244800903270966,1.5683429045713548,1.511909],\"type\":\"scatter\",\"name\":\"y2\",\"yaxis\":\"y1\",\"x\":[0.15,0.228,0.306,0.384,0.462,0.54,0.618,0.696,0.774,0.852,0.93,1.008,1.086,1.164,1.242,1.32,1.398,1.476,1.554,1.632,1.71,1.788,1.866,1.944,2.022,2.1,2.178,2.256,2.334,2.412,2.49,2.568,2.646,2.724,2.802,2.88,2.958,3.036,3.114,3.192,3.27,3.348,3.426,3.504,3.582,3.66,3.738,3.816,3.894,3.972,4.05,4.128,4.206,4.284,4.362,4.44,4.518,4.596,4.674,4.752,4.83,4.908,4.986,5.064,5.142,5.22,5.298,5.376,5.454,5.532,5.61,5.688,5.766,5.844,5.922,6.0,6.078,6.156,6.234,6.312,6.39,6.468,6.546,6.624,6.702,6.78,6.858,6.936,7.014,7.092,7.17,7.248,7.326,7.404,7.482,7.56,7.638,7.716,7.794,7.872,7.95]}], {\"showlegend\":false,\"paper_bgcolor\":\"rgba(255, 255, 255, 1.000)\",\"xaxis1\":{\"showticklabels\":true,\"gridwidth\":0.5,\"tickvals\":[0.0,2.0,4.0,6.0,8.0],\"visible\":true,\"ticks\":\"inside\",\"range\":[-0.08399999999999999,8.184000000000001],\"domain\":[0.07646908719743364,0.9934383202099737],\"tickmode\":\"array\",\"linecolor\":\"rgba(0, 0, 0, 1.000)\",\"showgrid\":false,\"title\":\"x\",\"mirror\":false,\"tickangle\":0,\"showline\":true,\"gridcolor\":\"rgba(0, 0, 0, 0.100)\",\"titlefont\":{\"color\":\"rgba(0, 0, 0, 1.000)\",\"family\":\"sans-serif\",\"size\":15},\"tickcolor\":\"rgb(0, 0, 0)\",\"ticktext\":[\"0\",\"2\",\"4\",\"6\",\"8\"],\"zeroline\":false,\"type\":\"-\",\"tickfont\":{\"color\":\"rgba(0, 0, 0, 1.000)\",\"family\":\"sans-serif\",\"size\":11},\"zerolinecolor\":\"rgba(0, 0, 0, 1.000)\",\"anchor\":\"y1\"},\"annotations\":[{\"yanchor\":\"top\",\"xanchor\":\"center\",\"rotation\":-0.0,\"y\":1.0,\"font\":{\"color\":\"rgba(0, 0, 0, 1.000)\",\"family\":\"sans-serif\",\"size\":20},\"yref\":\"paper\",\"showarrow\":false,\"text\":\"Polinomio Interpolante L(x)\",\"xref\":\"paper\",\"x\":0.5349537037037038}],\"height\":400,\"margin\":{\"l\":0,\"b\":20,\"r\":0,\"t\":20},\"plot_bgcolor\":\"rgba(255, 255, 255, 1.000)\",\"yaxis1\":{\"showticklabels\":true,\"gridwidth\":0.5,\"tickvals\":[1.5,2.0,2.5,3.0,3.5,4.0,4.5],\"visible\":true,\"ticks\":\"inside\",\"range\":[1.41330617,4.89727283],\"domain\":[0.07581474190726165,0.9415463692038496],\"tickmode\":\"array\",\"linecolor\":\"rgba(0, 0, 0, 1.000)\",\"showgrid\":false,\"title\":\"y\",\"mirror\":false,\"tickangle\":0,\"showline\":true,\"gridcolor\":\"rgba(0, 0, 0, 0.100)\",\"titlefont\":{\"color\":\"rgba(0, 0, 0, 1.000)\",\"family\":\"sans-serif\",\"size\":15},\"tickcolor\":\"rgb(0, 0, 0)\",\"ticktext\":[\"1.5\",\"2.0\",\"2.5\",\"3.0\",\"3.5\",\"4.0\",\"4.5\"],\"zeroline\":false,\"type\":\"-\",\"tickfont\":{\"color\":\"rgba(0, 0, 0, 1.000)\",\"family\":\"sans-serif\",\"size\":11},\"zerolinecolor\":\"rgba(0, 0, 0, 1.000)\",\"anchor\":\"x1\"},\"width\":600});\n",
       "    </script>\n"
      ]
     },
     "execution_count": 10,
     "metadata": {},
     "output_type": "execute_result"
    }
   ],
   "source": [
    "mx = minimum(datax)\n",
    "Mx = maximum(datax)\n",
    "px = collect(linspace(mx,Mx,101))\n",
    "py = lg(datax,datay,px)\n",
    "plot!(px,py,title=\"Polinomio Interpolante L(x)\")"
   ]
  },
  {
   "cell_type": "markdown",
   "metadata": {},
   "source": [
    "## <font color=blue>Polinomio de Newton</font>\n",
    "\n",
    "En la base de Newton, el polinomio interpolante para los puntos $(x_1,y_1),\\dots,(x_6,y_6)$ es\n",
    "\n",
    "$$\\begin{array}{lll}\n",
    "p(x) = &  & f(x_1) \\\\\n",
    "     & + & f[x_1,x_2](x-x_1) \\\\\n",
    "     & + & f[x_1,x_2,x_3](x-x_1)(x-x_2) \\\\\n",
    "     & + & f[x_1,x_2,x_3,x_4](x-x_1)(x-x_2)(x-x_3) \\\\\n",
    "     & + & f[x_1,x_2,x_3,x_4,x_5](x-x_1)(x-x_2)(x-x_3)(x-x_4) \\\\\n",
    "     & + & f[x_1,x_2,x_3,x_4,x_5,x_6](x-x_1)(x-x_2)(x-x_3)(x-x_4)(x-x_5)\n",
    "\\end{array}$$\n",
    "\n",
    "Creamos la rutina **NDD** para obtener las diferencias divididas\n",
    "\n",
    "La idea es almacenar las diferencias divididas en la parte triangular inferior de\n",
    "una matriz\n",
    "\n",
    "$$\\quad A=\\left(\\begin{array}{llllll}\n",
    " f(x_1) & & & & & \\\\ \n",
    " f(x_2) & f[x_1,x_2] & & & &\\\\ \n",
    " f(x_3) & f[x_2,x_3] & f[x_1,x_2,x_3] & & & \\\\ \n",
    " f(x_4) & f[x_3,x_4] & f[x_2,x_3,x_4] & f[x_1,x_2,x_3,x_4] & & \\\\ \n",
    " f(x_5) & f[x_4,x_5] & f[x_3,x_4,x_5] & f[x_2,x_3,x_4,x_5] &   \n",
    " f[x_1,x_2,x_3,x_4,x_5] & \\\\ \n",
    " f(x_6) & f[x_5,x_6] & f[x_4,x_5,x_6] & f[x_3,x_4,x_5,x_6] &  \n",
    " f[x_2,x_3,x_4,x_5,x_6] & f[x_1,x_2,x_3,x_4,x_5,x_6] \\\\ \n",
    "\\end{array}\\right)$$\n",
    "\n",
    "columna $\\begin{array}{llllll}\n",
    "\\hspace{1.0cm} 1 & \\hspace{1.0cm} 2 & \\hspace{1.5cm} 3 & \\hspace{2.0cm} 4 & \\hspace{2.5cm} 5 & \\hspace{3.0cm} 6 \n",
    "\\end{array}$\n",
    "\n",
    "Para almacenar, observe \n",
    "\n",
    "$$f[x_3,x_4,x_5,x_6] = \\dfrac{f[x_4,x_5,x_6]-f[x_3,x_4,x_5]}{x_6-x_3} \\qquad\\Longrightarrow\\qquad\n",
    "a_{6,4}= \\dfrac{a_{6,3}-a_{5,3}}{x_6-x_3}$$\n",
    "\n",
    "En este caso $i=6,j=4$. Entonces\n",
    "\n",
    "$$a_{i,j}= \\dfrac{a_{i,j-1}-a_{i-1,j-1}}{x_i-x_{i-j+1}}$$\n",
    "\n",
    "Esta es la iteración principal "
   ]
  },
  {
   "cell_type": "code",
   "execution_count": 1,
   "metadata": {},
   "outputs": [
    {
     "data": {
      "text/plain": [
       "NDD (generic function with 1 method)"
      ]
     },
     "execution_count": 1,
     "metadata": {},
     "output_type": "execute_result"
    }
   ],
   "source": [
    "function NDD(x::Array{Float64},y::Array{Float64})\n",
    "    n = length(x)\n",
    "    #crea una matriz donde en la parte triangular inferior almacena\n",
    "    #las diferencias divididas\n",
    "    A = zeros(n,n)\n",
    "    # primera columna son evaluaciones \n",
    "    A[:,1]= y\n",
    "    # en la columna j poner las diferencias divididas de orden j-1\n",
    "    for j ∈ 2:n\n",
    "        # llena la parte triangular inferior\n",
    "        for i ∈ j:n\n",
    "            # iteración principal\n",
    "            A[i,j] = (A[i,j-1]-A[i-1,j-1]) / (x[i]-x[i-j+1])\n",
    "        end\n",
    "    end\n",
    "    #regresa las diferencias divididas sobre la diagonal principal \n",
    "    #de la matriz, estas son coeficientes del polinomio de Newton \n",
    "    return diag(A)\n",
    "end"
   ]
  },
  {
   "cell_type": "code",
   "execution_count": 5,
   "metadata": {},
   "outputs": [
    {
     "name": "stdout",
     "output_type": "stream",
     "text": [
      "coeficientes\n",
      "f[x_1] = 4.79867\n",
      "f[x_1,x_2] = -0.1435069767441864\n",
      "f[x_1,x_2,x_3] = -0.05641139990880034\n",
      "f[x_1,x_2,x_3,x_4] = 0.0012286641932144312\n",
      "f[x_1,x_2,x_3,x_4,x_5] = 0.00010443283127582936\n",
      "f[x_1,x_2,x_3,x_4,x_5,x_6] = -8.742359956899587e-6\n"
     ]
    }
   ],
   "source": [
    "println(\"coeficientes\")\n",
    "strf = \"f[x_1]\"\n",
    "a = NDD(datax,datay)\n",
    "for i ∈ 1:length(a)\n",
    "    if i ==1\n",
    "        println(\"$strf = $(a[i])\")\n",
    "    else\n",
    "        l = length(strf)\n",
    "        sl = strf[1:l-1]\n",
    "        si = string(i)\n",
    "        strf = \"$sl,x_$si]\"\n",
    "        println(\"$strf = $(a[i])\")\n",
    "    end\n",
    "end"
   ]
  },
  {
   "cell_type": "markdown",
   "metadata": {},
   "source": [
    "Creamos rutina **polyNewton** para evaluar el polinomio interpolante de Newton \n",
    "\n",
    "La idea es sobreescribir el polinomio mediante una relación de recurrencia \n",
    "(*método de Horner*)\n",
    "\n",
    "$$\\begin{array}{ll}\n",
    " p(x) & \\longleftarrow f[x_1,x_2,x_3,x_4,x_5,x_6] \\\\\n",
    " p(x) & \\longleftarrow (x-x_5)p(x) + f[x_1,x_2,x_3,x_4,x_5] \\\\\n",
    " p(x) & \\longleftarrow (x-x_4)p(x) + f[x_1,x_2,x_3,x_4] \\\\\n",
    " p(x) & \\longleftarrow (x-x_3)p(x) + f[x_1,x_2,x_3] \\\\\n",
    " p(x) & \\longleftarrow (x-x_2)p(x) + f[x_1,x_2] \\\\\n",
    " p(x) & \\longleftarrow (x-x_1)p(x) + f(x_1) \\\\\n",
    "\\end{array}$$\n",
    "\n",
    "Esto nos da el polinomio en la base de Newton"
   ]
  },
  {
   "cell_type": "code",
   "execution_count": 6,
   "metadata": {},
   "outputs": [
    {
     "data": {
      "text/plain": [
       "polyNewton (generic function with 1 method)"
      ]
     },
     "execution_count": 6,
     "metadata": {},
     "output_type": "execute_result"
    }
   ],
   "source": [
    "#Rutina que evalua el polinomio de Newton\n",
    "#Entrada: arreglo pa con partición del intervalo min(x_i)<=x<=max(x_i)\n",
    "#         arreglo nod de nodos\n",
    "#         arreglo c con coeficientes(diferencias divididas) \n",
    "#Salida:  arreglo px con evaluaciones del polinomio en particion pa\n",
    "function polyNewton(pa,nod,c)\n",
    "    n = length(nod) -1\n",
    "    px = c[n]\n",
    "    for i ∈ 1:n-1\n",
    "        px = px.*(pa-nod[n-i]) + c[n-i]\n",
    "    end\n",
    "    return px\n",
    "end"
   ]
  },
  {
   "cell_type": "code",
   "execution_count": 11,
   "metadata": {},
   "outputs": [
    {
     "data": {
      "application/vnd.plotly.v1+json": {
       "data": [
        {
         "colorbar": {
          "title": ""
         },
         "marker": {
          "color": [
           "rgba(0, 128, 0, 1.000)",
           "rgba(0, 128, 0, 1.000)",
           "rgba(0, 128, 0, 1.000)",
           "rgba(0, 128, 0, 1.000)",
           "rgba(0, 128, 0, 1.000)",
           "rgba(0, 128, 0, 1.000)"
          ],
          "line": {
           "color": [
            "rgba(0, 0, 0, 1.000)",
            "rgba(0, 0, 0, 1.000)",
            "rgba(0, 0, 0, 1.000)",
            "rgba(0, 0, 0, 1.000)",
            "rgba(0, 0, 0, 1.000)",
            "rgba(0, 0, 0, 1.000)"
           ],
           "width": 1
          },
          "size": 8,
          "symbol": "circle"
         },
         "mode": "markers",
         "name": "y1",
         "showlegend": true,
         "type": "scatter",
         "x": [
          0.15,
          2.3,
          3.15,
          4.85,
          6.25,
          7.95
         ],
         "xaxis": "x1",
         "y": [
          4.79867,
          4.49013,
          4.2243,
          3.47313,
          2.66674,
          1.511909
         ],
         "yaxis": "y1"
        },
        {
         "colorbar": {
          "title": ""
         },
         "line": {
          "color": "rgba(227, 111, 71, 1.000)",
          "dash": "solid",
          "shape": "linear",
          "width": 1
         },
         "mode": "lines",
         "name": "y2",
         "showlegend": true,
         "type": "scatter",
         "x": [
          0.15,
          0.28220338983050847,
          0.41440677966101697,
          0.5466101694915254,
          0.6788135593220339,
          0.8110169491525424,
          0.9432203389830508,
          1.0754237288135593,
          1.2076271186440677,
          1.3398305084745763,
          1.4720338983050847,
          1.6042372881355933,
          1.7364406779661017,
          1.86864406779661,
          2.0008474576271187,
          2.133050847457627,
          2.2652542372881355,
          2.397457627118644,
          2.5296610169491527,
          2.661864406779661,
          2.7940677966101695,
          2.926271186440678,
          3.0584745762711862,
          3.190677966101695,
          3.3228813559322035,
          3.455084745762712,
          3.5872881355932202,
          3.7194915254237286,
          3.8516949152542375,
          3.983898305084746,
          4.116101694915254,
          4.248305084745763,
          4.3805084745762715,
          4.512711864406779,
          4.644915254237288,
          4.777118644067796,
          4.909322033898305,
          5.041525423728814,
          5.173728813559322,
          5.305932203389831,
          5.438135593220339,
          5.570338983050847,
          5.702542372881356,
          5.834745762711864,
          5.966949152542373,
          6.099152542372881,
          6.23135593220339,
          6.363559322033899,
          6.495762711864407,
          6.627966101694915,
          6.760169491525423,
          6.892372881355932,
          7.024576271186441,
          7.156779661016949,
          7.288983050847458,
          7.421186440677966,
          7.553389830508475,
          7.685593220338983,
          7.817796610169491,
          7.95
         ],
         "xaxis": "x1",
         "y": [
          4.79867,
          4.79532118183222,
          4.789894416967872,
          4.782393626601547,
          4.7728234975573365,
          4.761189482288828,
          4.747497798879111,
          4.731755431040775,
          4.713970128115906,
          4.694150405076091,
          4.672305542522416,
          4.648445586685466,
          4.622581349425326,
          4.5947244082315795,
          4.564887106223309,
          4.533082552149098,
          4.499324620387027,
          4.4636279509446775,
          4.426007949459129,
          4.3864807871969616,
          4.3450634010542535,
          4.301773493556584,
          4.256629532859028,
          4.209650752746164,
          4.160857152632067,
          4.110269497560313,
          4.057909318203976,
          4.003798910865628,
          3.9479613374773437,
          3.890420425600695,
          3.8312007684267533,
          3.770327724776089,
          3.7078274190987726,
          3.6437267414743735,
          3.57805334761196,
          3.5108356588501,
          3.4421028621568603,
          3.371884910129808,
          3.3002125209960083,
          3.2271171786120267,
          3.152631132463927,
          3.076787397667273,
          2.999619754967127,
          2.921162750738051,
          2.841451696984108,
          2.760522671338857,
          2.6784125170653583,
          2.595158843056171,
          2.5108000238333545,
          2.425375199548465,
          2.338924275982561,
          2.2514879245461974,
          2.163107582279431,
          2.073825451851816,
          1.9836845015624074,
          1.892728465339757,
          1.8010018427419188,
          1.708549898956444,
          1.615418664800385,
          1.5216549367202914
         ],
         "yaxis": "y1"
        }
       ],
       "layout": {
        "annotations": [
         {
          "font": {
           "color": "rgba(0, 0, 0, 1.000)",
           "family": "sans-serif",
           "size": 20
          },
          "rotation": 0,
          "showarrow": false,
          "text": "polinomio interpolante de Newton p(x)",
          "x": 0.5222222222222223,
          "xanchor": "center",
          "xref": "paper",
          "y": 1,
          "yanchor": "top",
          "yref": "paper"
         }
        ],
        "height": 400,
        "margin": {
         "b": 20,
         "l": 0,
         "r": 0,
         "t": 20
        },
        "paper_bgcolor": "rgba(255, 255, 255, 1.000)",
        "plot_bgcolor": "rgba(255, 255, 255, 1.000)",
        "showlegend": false,
        "width": 600,
        "xaxis1": {
         "anchor": "y1",
         "domain": [
          0.05100612423447069,
          0.9934383202099737
         ],
         "gridcolor": "rgba(0, 0, 0, 0.100)",
         "gridwidth": 0.5,
         "linecolor": "rgba(0, 0, 0, 1.000)",
         "mirror": false,
         "range": [
          -0.08399999999999999,
          8.184000000000001
         ],
         "showgrid": false,
         "showline": true,
         "showticklabels": true,
         "tickangle": 0,
         "tickcolor": "rgb(0, 0, 0)",
         "tickfont": {
          "color": "rgba(0, 0, 0, 1.000)",
          "family": "sans-serif",
          "size": 11
         },
         "tickmode": "array",
         "ticks": "inside",
         "ticktext": [
          "0",
          "2",
          "4",
          "6",
          "8"
         ],
         "tickvals": [
          0,
          2,
          4,
          6,
          8
         ],
         "title": "x",
         "titlefont": {
          "color": "rgba(0, 0, 0, 1.000)",
          "family": "sans-serif",
          "size": 15
         },
         "type": "-",
         "visible": true,
         "zeroline": false,
         "zerolinecolor": "rgba(0, 0, 0, 1.000)"
        },
        "yaxis1": {
         "anchor": "x1",
         "domain": [
          0.07581474190726165,
          0.9415463692038496
         ],
         "gridcolor": "rgba(0, 0, 0, 0.100)",
         "gridwidth": 0.5,
         "linecolor": "rgba(0, 0, 0, 1.000)",
         "mirror": false,
         "range": [
          1.41330617,
          4.89727283
         ],
         "showgrid": false,
         "showline": true,
         "showticklabels": true,
         "tickangle": 0,
         "tickcolor": "rgb(0, 0, 0)",
         "tickfont": {
          "color": "rgba(0, 0, 0, 1.000)",
          "family": "sans-serif",
          "size": 11
         },
         "tickmode": "array",
         "ticks": "inside",
         "ticktext": [
          "1.5",
          "2.0",
          "2.5",
          "3.0",
          "3.5",
          "4.0",
          "4.5"
         ],
         "tickvals": [
          1.5,
          2,
          2.5,
          3,
          3.5,
          4,
          4.5
         ],
         "title": "",
         "titlefont": {
          "color": "rgba(0, 0, 0, 1.000)",
          "family": "sans-serif",
          "size": 15
         },
         "type": "-",
         "visible": true,
         "zeroline": false,
         "zerolinecolor": "rgba(0, 0, 0, 1.000)"
        }
       }
      },
      "text/html": [
       "<script src=\"file://D:\\Archivos de Programa\\Julia Pro\\pkgs-0.6.2.2\\v0.6\\Plots\\src\\backends\\..\\..\\deps\\plotly-latest.min.js\"></script>    <div id=\"f6818715-2c6e-45fe-b768-e52ef4902750\" style=\"width:600px;height:400px;\"></div>\n",
       "    <script>\n",
       "    PLOT = document.getElementById('f6818715-2c6e-45fe-b768-e52ef4902750');\n",
       "    Plotly.plot(PLOT, [{\"showlegend\":true,\"mode\":\"markers\",\"xaxis\":\"x1\",\"colorbar\":{\"title\":\"\"},\"marker\":{\"symbol\":\"circle\",\"color\":[\"rgba(0, 128, 0, 1.000)\",\"rgba(0, 128, 0, 1.000)\",\"rgba(0, 128, 0, 1.000)\",\"rgba(0, 128, 0, 1.000)\",\"rgba(0, 128, 0, 1.000)\",\"rgba(0, 128, 0, 1.000)\"],\"line\":{\"color\":[\"rgba(0, 0, 0, 1.000)\",\"rgba(0, 0, 0, 1.000)\",\"rgba(0, 0, 0, 1.000)\",\"rgba(0, 0, 0, 1.000)\",\"rgba(0, 0, 0, 1.000)\",\"rgba(0, 0, 0, 1.000)\"],\"width\":1},\"size\":8},\"y\":[4.79867,4.49013,4.2243,3.47313,2.66674,1.511909],\"type\":\"scatter\",\"name\":\"y1\",\"yaxis\":\"y1\",\"x\":[0.15,2.3,3.15,4.85,6.25,7.95]},{\"showlegend\":true,\"mode\":\"lines\",\"xaxis\":\"x1\",\"colorbar\":{\"title\":\"\"},\"line\":{\"color\":\"rgba(227, 111, 71, 1.000)\",\"shape\":\"linear\",\"dash\":\"solid\",\"width\":1},\"y\":[4.79867,4.79532118183222,4.789894416967872,4.782393626601547,4.7728234975573365,4.761189482288828,4.747497798879111,4.731755431040775,4.713970128115906,4.694150405076091,4.672305542522416,4.648445586685466,4.622581349425326,4.5947244082315795,4.564887106223309,4.533082552149098,4.499324620387027,4.4636279509446775,4.426007949459129,4.3864807871969616,4.3450634010542535,4.301773493556584,4.256629532859028,4.209650752746164,4.160857152632067,4.110269497560313,4.057909318203976,4.003798910865628,3.9479613374773437,3.890420425600695,3.8312007684267533,3.770327724776089,3.7078274190987726,3.6437267414743735,3.57805334761196,3.5108356588501,3.4421028621568603,3.371884910129808,3.3002125209960083,3.2271171786120267,3.152631132463927,3.076787397667273,2.999619754967127,2.921162750738051,2.841451696984108,2.760522671338857,2.6784125170653583,2.595158843056171,2.5108000238333545,2.425375199548465,2.338924275982561,2.2514879245461974,2.163107582279431,2.073825451851816,1.9836845015624074,1.892728465339757,1.8010018427419188,1.708549898956444,1.615418664800385,1.5216549367202914],\"type\":\"scatter\",\"name\":\"y2\",\"yaxis\":\"y1\",\"x\":[0.15,0.28220338983050847,0.41440677966101697,0.5466101694915254,0.6788135593220339,0.8110169491525424,0.9432203389830508,1.0754237288135593,1.2076271186440677,1.3398305084745763,1.4720338983050847,1.6042372881355933,1.7364406779661017,1.86864406779661,2.0008474576271187,2.133050847457627,2.2652542372881355,2.397457627118644,2.5296610169491527,2.661864406779661,2.7940677966101695,2.926271186440678,3.0584745762711862,3.190677966101695,3.3228813559322035,3.455084745762712,3.5872881355932202,3.7194915254237286,3.8516949152542375,3.983898305084746,4.116101694915254,4.248305084745763,4.3805084745762715,4.512711864406779,4.644915254237288,4.777118644067796,4.909322033898305,5.041525423728814,5.173728813559322,5.305932203389831,5.438135593220339,5.570338983050847,5.702542372881356,5.834745762711864,5.966949152542373,6.099152542372881,6.23135593220339,6.363559322033899,6.495762711864407,6.627966101694915,6.760169491525423,6.892372881355932,7.024576271186441,7.156779661016949,7.288983050847458,7.421186440677966,7.553389830508475,7.685593220338983,7.817796610169491,7.95]}], {\"showlegend\":false,\"paper_bgcolor\":\"rgba(255, 255, 255, 1.000)\",\"xaxis1\":{\"showticklabels\":true,\"gridwidth\":0.5,\"tickvals\":[0.0,2.0,4.0,6.0,8.0],\"visible\":true,\"ticks\":\"inside\",\"range\":[-0.08399999999999999,8.184000000000001],\"domain\":[0.05100612423447069,0.9934383202099737],\"tickmode\":\"array\",\"linecolor\":\"rgba(0, 0, 0, 1.000)\",\"showgrid\":false,\"title\":\"x\",\"mirror\":false,\"tickangle\":0,\"showline\":true,\"gridcolor\":\"rgba(0, 0, 0, 0.100)\",\"titlefont\":{\"color\":\"rgba(0, 0, 0, 1.000)\",\"family\":\"sans-serif\",\"size\":15},\"tickcolor\":\"rgb(0, 0, 0)\",\"ticktext\":[\"0\",\"2\",\"4\",\"6\",\"8\"],\"zeroline\":false,\"type\":\"-\",\"tickfont\":{\"color\":\"rgba(0, 0, 0, 1.000)\",\"family\":\"sans-serif\",\"size\":11},\"zerolinecolor\":\"rgba(0, 0, 0, 1.000)\",\"anchor\":\"y1\"},\"annotations\":[{\"yanchor\":\"top\",\"xanchor\":\"center\",\"rotation\":-0.0,\"y\":1.0,\"font\":{\"color\":\"rgba(0, 0, 0, 1.000)\",\"family\":\"sans-serif\",\"size\":20},\"yref\":\"paper\",\"showarrow\":false,\"text\":\"polinomio interpolante de Newton p(x)\",\"xref\":\"paper\",\"x\":0.5222222222222223}],\"height\":400,\"margin\":{\"l\":0,\"b\":20,\"r\":0,\"t\":20},\"plot_bgcolor\":\"rgba(255, 255, 255, 1.000)\",\"yaxis1\":{\"showticklabels\":true,\"gridwidth\":0.5,\"tickvals\":[1.5,2.0,2.5,3.0,3.5,4.0,4.5],\"visible\":true,\"ticks\":\"inside\",\"range\":[1.41330617,4.89727283],\"domain\":[0.07581474190726165,0.9415463692038496],\"tickmode\":\"array\",\"linecolor\":\"rgba(0, 0, 0, 1.000)\",\"showgrid\":false,\"title\":\"\",\"mirror\":false,\"tickangle\":0,\"showline\":true,\"gridcolor\":\"rgba(0, 0, 0, 0.100)\",\"titlefont\":{\"color\":\"rgba(0, 0, 0, 1.000)\",\"family\":\"sans-serif\",\"size\":15},\"tickcolor\":\"rgb(0, 0, 0)\",\"ticktext\":[\"1.5\",\"2.0\",\"2.5\",\"3.0\",\"3.5\",\"4.0\",\"4.5\"],\"zeroline\":false,\"type\":\"-\",\"tickfont\":{\"color\":\"rgba(0, 0, 0, 1.000)\",\"family\":\"sans-serif\",\"size\":11},\"zerolinecolor\":\"rgba(0, 0, 0, 1.000)\",\"anchor\":\"x1\"},\"width\":600});\n",
       "    </script>\n"
      ]
     },
     "execution_count": 11,
     "metadata": {},
     "output_type": "execute_result"
    }
   ],
   "source": [
    "tval = linspace(mx,Mx,60)\n",
    "yval = polyNewton(tval,datax,a)\n",
    "scatter(datax,datay,xlabel=\"x\",legend=false,grid=false,color=\"green\")\n",
    "plot!(tval,yval,title=\"polinomio interpolante de Newton p(x)\")"
   ]
  },
  {
   "cell_type": "markdown",
   "metadata": {},
   "source": [
    "# <font color=purple>Reglas Compuestas de Cuadratura</font> "
   ]
  },
  {
   "cell_type": "code",
   "execution_count": null,
   "metadata": {},
   "outputs": [],
   "source": [
    "año = linspace(1997,2005,9)\n",
    "edad = [34.7,34.9,35.2,35.3,35.6,35.7,35.9,36,36.2]\n",
    "println(\" año     edad \")\n",
    "for i ∈ 1:length(año)\n",
    "    println(\"$(año[i])   $(edad[i])\")\n",
    "end"
   ]
  },
  {
   "cell_type": "code",
   "execution_count": null,
   "metadata": {},
   "outputs": [],
   "source": [
    "using Plots\n",
    "plotly()"
   ]
  },
  {
   "cell_type": "code",
   "execution_count": null,
   "metadata": {},
   "outputs": [],
   "source": [
    "scatter(año,edad,grid=false,legend=false,title=\"Edad Media\",xlabel=\"año\",\n",
    "        ylabel=\"edad\")\n"
   ]
  },
  {
   "cell_type": "markdown",
   "metadata": {},
   "source": [
    "## <font color=blue>Regla compuesta del Trapecio</font>\n",
    "\n",
    "- 8 subintervalos  $\\longrightarrow$ 8 segmentos de recta $l_i(t)$\n",
    "\n",
    "\n",
    "$$\\text{edad media}\\quad f(t) \\approx\n",
    " \\begin{cases}\n",
    "  l_1(t) & 1997 \\leq t  \\leq 1998,\\\\\n",
    "  l_2(t) & 1998 \\leq t  \\leq 1999,\\\\\n",
    "  l_3(t) & 1999 \\leq t  \\leq 2000,\\\\\n",
    "  l_4(t) & 2000 \\leq t  \\leq 2001,\\\\\n",
    "  l_5(t) & 2001 \\leq t  \\leq 2002,\\\\\n",
    "  l_6(t) & 2002 \\leq t  \\leq 2003,\\\\\n",
    "  l_7(t) & 2003 \\leq t  \\leq 2004,\\\\\n",
    "  l_8(t) & 2004 \\leq t  \\leq 2005,\\\\\n",
    " \\end{cases}$$"
   ]
  },
  {
   "cell_type": "code",
   "execution_count": null,
   "metadata": {},
   "outputs": [],
   "source": [
    "plot(año[1:2],edad[1:2],color =\"#5760e3\",label=\"l₁(t)\",linewidth=6,fillcolor=\"blue\")\n",
    "plot!(año[2:3],edad[2:3],color =\"#15f2f9\",label=\"l₂(t)\",linewidth=6)\n",
    "plot!(año[3:4],edad[3:4],color =\"#608cf7\",label=\"l₃(t)\",linewidth=6)\n",
    "plot!(año[4:5],edad[4:5],color =\"#631a85\",label=\"l₄(t)\",linewidth=6)\n",
    "plot!(año[5:6],edad[5:6],color =\"#051938\",label=\"l₅(t)\",linewidth=6)\n",
    "plot!(año[6:7],edad[6:7],color =\"#7689a9\",label=\"l₆(t)\",linewidth=6)\n",
    "plot!(año[7:8],edad[7:8],color =\"#4baef9\",label=\"l₇(t)\",linewidth=6)\n",
    "plot!(año[8:9],edad[8:9],color =\"#b700ff\",label=\"l₈(t)\",linewidth=6,grid=false)  "
   ]
  },
  {
   "cell_type": "markdown",
   "metadata": {},
   "source": [
    "Aproximación de Edad promedio $\\int_{1997}^{2005} f(t)dt$"
   ]
  },
  {
   "cell_type": "code",
   "execution_count": null,
   "metadata": {},
   "outputs": [],
   "source": [
    "plot(año[1:2],edad[1:2],fill=(0,\"#5760e3\"),label=\"l₂(t)\")\n",
    "plot!(año[2:3],edad[2:3],fill=(0,\"#15f2f9\"),label=\"l₂(t)\")\n",
    "plot!(año[3:4],edad[3:4],fill=(0,\"#608cf7\"),label=\"l₃(t)\")\n",
    "plot!(año[4:5],edad[4:5],fill=(0,\"#631a85\"),label=\"l₄(t)\")\n",
    "plot!(año[5:6],edad[5:6],fill=(0,\"#051938\"),label=\"l₅(t)\")\n",
    "plot!(año[6:7],edad[6:7],fill=(0,\"#7689a9\"),label=\"l₆(t)\")\n",
    "plot!(año[7:8],edad[7:8],fill=(0,\"#4baef9\"),label=\"l₇(t)\")\n",
    "plot!(año[8:9],edad[8:9],fill=(0,\"#b700ff\"),label=\"l₈(t)\")"
   ]
  },
  {
   "cell_type": "markdown",
   "metadata": {},
   "source": [
    "$$\\begin{array}{c}\n",
    "\\text{área bajo segmento de recta} \\\\ \n",
    "\\text{que une nodo $i$ con nodo $i+1$} \n",
    "\\end{array} \n",
    "\\quad = \\quad\n",
    "\\begin{array}{c}\n",
    "  \\text{área de trapecio} \\\\\n",
    "  \\text{altura = incremento, base 1 = $f$(nodo $i$) y base 2 = $f$(nodo $i+1$)}\n",
    "\\end{array}$$\n",
    "\n",
    "$$\\begin{array}{c} \\\\ \\end{array}$$\n",
    "\n",
    "$$ \\text{Área de un trapecio} \n",
    "= \\text{altura}\\times\\dfrac{\\text{base 1} + \\text{base 2}}{2}$$\n",
    "\n",
    "$$\\begin{array}{c} \\\\ \\end{array}$$\n",
    "\n",
    "En ejemplo, todas las alturas = 1\n",
    "\n",
    "Regla compuesta a partir de reglas simples:\n",
    "\n",
    "$$\\begin{array}{ll}\n",
    "\\int_{1997}^{1998} l_1(t)dt & = \\dfrac{34.7+34.9}{2} \\\\\n",
    "\\int_{1998}^{1999} l_2(t)dt & = \\dfrac{34.9+35.2}{2}\\\\\n",
    "\\int_{1999}^{2000} l_3(t)dt & = \\dfrac{35.2+35.3}{2} \\\\\n",
    "\\int_{2000}^{2001} l_4(t)dt & = \\dfrac{35.3+35.6}{2}\\\\\n",
    "\\int_{2001}^{2002} l_5(t)dt & = \\dfrac{35.6+35.7}{2}\\\\\n",
    "\\int_{2002}^{2003} l_6(t)dt & = \\dfrac{35.7+35.9}{2}\\\\\n",
    "\\int_{2003}^{2004} l_7(t)dt & = \\dfrac{35.9+36}{2}\\\\\n",
    "\\int_{2004}^{2005} l_8(t)dt & = \\dfrac{36+36.2}{2}\n",
    "\\end{array}$$\n",
    "\n",
    " $$\\begin{array}{ll}\n",
    " \\int_{1997}^{2005} f(t)dt  & \\approx\n",
    " \\dfrac{1}{2}[34.7 + (2\\times34.9)+ (2\\times 35.2) + (2\\times 35.3) \\\\\n",
    " & \\qquad + (2\\times 35.6) + (2\\times35.7) + (2\\times35.9) + (2\\times36) +36.2]\n",
    " \\end{array}$$"
   ]
  },
  {
   "cell_type": "code",
   "execution_count": null,
   "metadata": {},
   "outputs": [],
   "source": [
    "Ia = .5*(34.7 + 2*34.9 + 2*35.2 + 2*35.3 + 2*35.6 + 2*35.7 + 2*35.9 + 2*36 + 36.2)\n",
    "println(\"∫₁₉₉₇²⁰⁰⁵  f(t)dt ≈\",Ia)"
   ]
  },
  {
   "cell_type": "markdown",
   "metadata": {},
   "source": [
    "**Regla compuesta del Trapecio**\n",
    "$$\\begin{array}{ll}  \n",
    "& =  \\dfrac{incremento}{2}\\left[\\right. \n",
    "f(1º\\ nodo) + 2f(2º\\ nodo) + 2f(3º\\ nodo) + 2f(4º\\ nodo)  \\\\ \n",
    " & + 2f(5º\\ nodo) + 2f(6º\\ nodo) + 2f(7º\\ nodo) + 2f(8º\\ nodo) + f(9º\\ nodo)\\left.\\right]\n",
    " \\end{array}$$"
   ]
  },
  {
   "cell_type": "markdown",
   "metadata": {},
   "source": []
  },
  {
   "cell_type": "code",
   "execution_count": null,
   "metadata": {},
   "outputs": [],
   "source": []
  }
 ],
 "metadata": {
  "kernelspec": {
   "display_name": "Julia 0.6.2",
   "language": "julia",
   "name": "julia-0.6"
  },
  "language_info": {
   "file_extension": ".jl",
   "mimetype": "application/julia",
   "name": "julia",
   "version": "0.6.2"
  }
 },
 "nbformat": 4,
 "nbformat_minor": 2
}

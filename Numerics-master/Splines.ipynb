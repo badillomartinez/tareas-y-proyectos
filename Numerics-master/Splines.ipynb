{
 "cells": [
  {
   "cell_type": "markdown",
   "metadata": {},
   "source": [
    "# Spline Cúbico Natural"
   ]
  },
  {
   "cell_type": "code",
   "execution_count": 6,
   "metadata": {
    "scrolled": true
   },
   "outputs": [
    {
     "name": "stderr",
     "output_type": "stream",
     "text": [
      "\u001b[1m\u001b[36mINFO: \u001b[39m\u001b[22m\u001b[36mNo packages to install, update or remove\n",
      "\u001b[39m\u001b[1m\u001b[36mINFO: \u001b[39m\u001b[22m\u001b[36mPackage database updated\n",
      "\u001b[39m\u001b[1m\u001b[36mINFO: \u001b[39m\u001b[22m\u001b[36mMETADATA is out-of-date — you may not have the latest version of Dierckx\n",
      "\u001b[39m\u001b[1m\u001b[36mINFO: \u001b[39m\u001b[22m\u001b[36mUse `Pkg.update()` to get the latest versions of your packages\n",
      "\u001b[39m"
     ]
    }
   ],
   "source": [
    "Pkg.add(\"Dierckx\")"
   ]
  },
  {
   "cell_type": "code",
   "execution_count": 11,
   "metadata": {},
   "outputs": [],
   "source": [
    "using Dierckx"
   ]
  },
  {
   "cell_type": "markdown",
   "metadata": {},
   "source": [
    "## Ejemplo 1"
   ]
  },
  {
   "cell_type": "code",
   "execution_count": 12,
   "metadata": {},
   "outputs": [],
   "source": [
    "x = [0., 1., 2., 3., 4.]\n",
    "y = [-1., 0., 7., 26., 63.]\n",
    "sp = Spline1D(x, y; w=ones(length(x)), k=3, bc=\"zero\", s=0.0);"
   ]
  },
  {
   "cell_type": "code",
   "execution_count": 13,
   "metadata": {},
   "outputs": [],
   "source": [
    "pa = collect(linspace(0,4,51))\n",
    "spa = evaluate(sp,pa);"
   ]
  },
  {
   "cell_type": "code",
   "execution_count": 14,
   "metadata": {},
   "outputs": [
    {
     "data": {
      "text/html": [
       "<script src=\"file:///home/jc/.julia/v0.6/Plots/src/backends/../../deps/plotly-latest.min.js\"></script>    <div id=\"d49b3f2b-b01e-42c0-aa50-6bb233f8377c\" style=\"width:600px;height:400px;\"></div>\n",
       "    <script>\n",
       "    PLOT = document.getElementById('d49b3f2b-b01e-42c0-aa50-6bb233f8377c');\n",
       "    Plotly.plot(PLOT, [{\"showlegend\":true,\"mode\":\"lines\",\"xaxis\":\"x\",\"colorbar\":{\"title\":\"\"},\"line\":{\"color\":\"rgba(128, 0, 128, 1.000)\",\"shape\":\"linear\",\"dash\":\"solid\",\"width\":4},\"y\":[-1.0,-0.9994880000000002,-0.9959040000000006,-0.9861760000000006,-0.9672320000000006,-0.9360000000000012,-0.889408000000001,-0.8243840000000011,-0.7378560000000007,-0.6267520000000013,-0.488000000000001,-0.31852800000000125,-0.11526400000000092,0.12486399999999909,0.40492799999999973,0.7279999999999995,1.0971520000000001,1.5154560000000006,1.985984,2.5118080000000007,3.0960000000000014,3.741632,4.451776000000001,5.229504000000001,6.0778880000000015,7.000000000000002,7.998912,9.077696000000003,10.239424000000005,11.487168,12.824,14.252992000000003,15.777216000000003,17.399744000000005,19.12364800000001,20.951999999999998,22.887871999999998,24.934336000000005,27.094464000000006,29.371328000000005,31.768000000000008,34.287552000000005,36.933056,39.707584000000004,42.614208000000005,45.656000000000006,48.83603200000001,52.15737599999999,55.62310399999999,59.236288,63.0],\"type\":\"scatter\",\"name\":\"y1\",\"yaxis\":\"y\",\"x\":[0.0,0.08,0.16,0.24,0.32,0.4,0.48,0.56,0.64,0.72,0.8,0.88,0.96,1.04,1.12,1.2,1.28,1.36,1.44,1.52,1.6,1.68,1.76,1.84,1.92,2.0,2.08,2.16,2.24,2.32,2.4,2.48,2.56,2.64,2.72,2.8,2.88,2.96,3.04,3.12,3.2,3.28,3.36,3.44,3.52,3.6,3.68,3.76,3.84,3.92,4.0]},{\"showlegend\":true,\"mode\":\"markers\",\"xaxis\":\"x\",\"colorbar\":{\"title\":\"\"},\"marker\":{\"symbol\":\"circle\",\"color\":[\"rgba(0, 255, 255, 1.000)\",\"rgba(0, 255, 255, 1.000)\",\"rgba(0, 255, 255, 1.000)\",\"rgba(0, 255, 255, 1.000)\",\"rgba(0, 255, 255, 1.000)\"],\"line\":{\"color\":[\"rgba(0, 0, 0, 1.000)\",\"rgba(0, 0, 0, 1.000)\",\"rgba(0, 0, 0, 1.000)\",\"rgba(0, 0, 0, 1.000)\",\"rgba(0, 0, 0, 1.000)\"],\"width\":1},\"size\":8},\"y\":[-1.0,0.0,7.0,26.0,63.0],\"type\":\"scatter\",\"name\":\"y2\",\"yaxis\":\"y\",\"x\":[0.0,1.0,2.0,3.0,4.0]}], {\"showlegend\":false,\"xaxis\":{\"showticklabels\":true,\"gridwidth\":0.5,\"tickvals\":[0.0,1.0,2.0,3.0,4.0],\"visible\":true,\"ticks\":\"inside\",\"range\":[-0.12,4.12],\"domain\":[0.03619130941965587,0.9934383202099738],\"tickmode\":\"array\",\"linecolor\":\"rgba(0, 0, 0, 1.000)\",\"showgrid\":false,\"title\":\"x\",\"mirror\":false,\"tickangle\":0,\"showline\":true,\"gridcolor\":\"rgba(0, 0, 0, 0.100)\",\"titlefont\":{\"color\":\"rgba(0, 0, 0, 1.000)\",\"family\":\"sans-serif\",\"size\":15},\"tickcolor\":\"rgb(0, 0, 0)\",\"ticktext\":[\"0\",\"1\",\"2\",\"3\",\"4\"],\"zeroline\":false,\"type\":\"-\",\"tickfont\":{\"color\":\"rgba(0, 0, 0, 1.000)\",\"family\":\"sans-serif\",\"size\":11},\"zerolinecolor\":\"rgba(0, 0, 0, 1.000)\",\"anchor\":\"y\"},\"paper_bgcolor\":\"rgba(255, 255, 255, 1.000)\",\"annotations\":[{\"yanchor\":\"top\",\"xanchor\":\"center\",\"rotation\":-0.0,\"y\":1.0,\"font\":{\"color\":\"rgba(0, 0, 0, 1.000)\",\"family\":\"sans-serif\",\"size\":20},\"yref\":\"paper\",\"showarrow\":false,\"text\":\"Spline Cúbico\",\"xref\":\"paper\",\"x\":0.5148148148148148}],\"height\":400,\"margin\":{\"l\":0,\"b\":20,\"r\":0,\"t\":20},\"plot_bgcolor\":\"rgba(255, 255, 255, 1.000)\",\"yaxis\":{\"showticklabels\":true,\"gridwidth\":0.5,\"tickvals\":[0.0,10.0,20.0,30.0,40.0,50.0,60.0],\"visible\":true,\"ticks\":\"inside\",\"range\":[-2.92,64.92],\"domain\":[0.07581474190726165,0.9415463692038496],\"tickmode\":\"array\",\"linecolor\":\"rgba(0, 0, 0, 1.000)\",\"showgrid\":false,\"title\":\"\",\"mirror\":false,\"tickangle\":0,\"showline\":true,\"gridcolor\":\"rgba(0, 0, 0, 0.100)\",\"titlefont\":{\"color\":\"rgba(0, 0, 0, 1.000)\",\"family\":\"sans-serif\",\"size\":15},\"tickcolor\":\"rgb(0, 0, 0)\",\"ticktext\":[\"0\",\"10\",\"20\",\"30\",\"40\",\"50\",\"60\"],\"zeroline\":false,\"type\":\"-\",\"tickfont\":{\"color\":\"rgba(0, 0, 0, 1.000)\",\"family\":\"sans-serif\",\"size\":11},\"zerolinecolor\":\"rgba(0, 0, 0, 1.000)\",\"anchor\":\"x\"},\"width\":600});\n",
       "    </script>\n"
      ]
     },
     "execution_count": 14,
     "metadata": {},
     "output_type": "execute_result"
    }
   ],
   "source": [
    "using Plots\n",
    "plotly()\n",
    "plot(pa,spa,color =\"purple\",linewidth=4)\n",
    "scatter!(x,y,grid=false,legend=false,title=\"Spline Cúbico\",xlabel=\"x\",color =\"cyan\")"
   ]
  },
  {
   "cell_type": "markdown",
   "metadata": {},
   "source": [
    "## Ejemplo 2"
   ]
  },
  {
   "cell_type": "code",
   "execution_count": 5,
   "metadata": {},
   "outputs": [],
   "source": [
    "x = [-1.,0.,0.75,1.]\n",
    "y = [1.,2.,0.,-1.]\n",
    "sp = Spline1D(x, y; w=ones(length(x)), k=3, bc=\"zero\", s=0.0);"
   ]
  },
  {
   "cell_type": "code",
   "execution_count": 6,
   "metadata": {},
   "outputs": [
    {
     "data": {
      "text/html": [
       "<script src=\"file:///home/vanmc/.julia/v0.6/Plots/src/backends/../../deps/plotly-latest.min.js\"></script>    <div id=\"6b2eabc3-7867-4426-9458-46822ce3052f\" style=\"width:600px;height:400px;\"></div>\n",
       "    <script>\n",
       "    PLOT = document.getElementById('6b2eabc3-7867-4426-9458-46822ce3052f');\n",
       "    Plotly.plot(PLOT, [{\"showlegend\":true,\"mode\":\"lines\",\"xaxis\":\"x\",\"colorbar\":{\"title\":\"\"},\"line\":{\"color\":\"rgba(128, 0, 128, 1.000)\",\"shape\":\"linear\",\"dash\":\"solid\",\"width\":4},\"y\":[1.0000000000000002,1.1454720000000003,1.2810331428571426,1.406829714285714,1.523008,1.6297142857142854,1.7270948571428568,1.8152959999999996,1.8944639999999997,1.9647451428571427,2.0262857142857147,2.0792319999999993,2.1237302857142852,2.1599268571428567,2.1879679999999992,2.2079999999999993,2.2201691428571424,2.2246217142857136,2.2215039999999995,2.2109622857142854,2.193142857142856,2.168191999999999,2.136256,2.0974811428571427,2.0520137142857138,1.9999999999999996,1.941586285714285,1.876918857142857,1.8061439999999995,1.7294079999999994,1.6468571428571426,1.5586377142857137,1.4648959999999995,1.3657782857142853,1.261430857142857,1.1519999999999997,1.0376319999999997,0.9184731428571427,0.7946697142857142,0.6663679999999996,0.5337142857142857,0.39685485714285695,0.2559359999999997,0.11110399999999998,-0.03749485714285716,-0.18971428571428595,-0.3454079999999998,-0.5044297142857141,-0.666633142857143,-0.8318719999999998,-1.0],\"type\":\"scatter\",\"name\":\"y1\",\"yaxis\":\"y\",\"x\":[-1.0,-0.96,-0.92,-0.88,-0.84,-0.8,-0.76,-0.72,-0.68,-0.64,-0.6,-0.56,-0.52,-0.48,-0.44,-0.4,-0.36,-0.32,-0.28,-0.24,-0.2,-0.16,-0.12,-0.08,-0.04,0.0,0.04,0.08,0.12,0.16,0.2,0.24,0.28,0.32,0.36,0.4,0.44,0.48,0.52,0.56,0.6,0.64,0.68,0.72,0.76,0.8,0.84,0.88,0.92,0.96,1.0]},{\"showlegend\":true,\"mode\":\"markers\",\"xaxis\":\"x\",\"colorbar\":{\"title\":\"\"},\"marker\":{\"symbol\":\"circle\",\"color\":[\"rgba(0, 255, 255, 1.000)\",\"rgba(0, 255, 255, 1.000)\",\"rgba(0, 255, 255, 1.000)\",\"rgba(0, 255, 255, 1.000)\"],\"line\":{\"color\":[\"rgba(0, 0, 0, 1.000)\",\"rgba(0, 0, 0, 1.000)\",\"rgba(0, 0, 0, 1.000)\",\"rgba(0, 0, 0, 1.000)\"],\"width\":1},\"size\":8},\"y\":[1.0,2.0,0.0,-1.0],\"type\":\"scatter\",\"name\":\"y2\",\"yaxis\":\"y\",\"x\":[-1.0,0.0,0.75,1.0]}], {\"showlegend\":false,\"xaxis\":{\"showticklabels\":true,\"gridwidth\":0.5,\"tickvals\":[-1.0,-0.5,0.0,0.5,1.0],\"visible\":true,\"ticks\":\"inside\",\"range\":[-1.06,1.06],\"domain\":[0.03619130941965587,0.9934383202099738],\"tickmode\":\"array\",\"linecolor\":\"rgba(0, 0, 0, 1.000)\",\"showgrid\":true,\"title\":\"x\",\"mirror\":false,\"tickangle\":0,\"showline\":true,\"gridcolor\":\"rgba(0, 0, 0, 0.100)\",\"titlefont\":{\"color\":\"rgba(0, 0, 0, 1.000)\",\"family\":\"sans-serif\",\"size\":15},\"tickcolor\":\"rgb(0, 0, 0)\",\"ticktext\":[\"-1.0\",\"-0.5\",\"0.0\",\"0.5\",\"1.0\"],\"zeroline\":false,\"type\":\"-\",\"tickfont\":{\"color\":\"rgba(0, 0, 0, 1.000)\",\"family\":\"sans-serif\",\"size\":11},\"zerolinecolor\":\"rgba(0, 0, 0, 1.000)\",\"anchor\":\"y\"},\"paper_bgcolor\":\"rgba(255, 255, 255, 1.000)\",\"annotations\":[{\"yanchor\":\"top\",\"xanchor\":\"center\",\"rotation\":-0.0,\"y\":1.0,\"font\":{\"color\":\"rgba(0, 0, 0, 1.000)\",\"family\":\"sans-serif\",\"size\":20},\"yref\":\"paper\",\"showarrow\":false,\"text\":\"Spline Cúbico\",\"xref\":\"paper\",\"x\":0.5148148148148148}],\"height\":400,\"margin\":{\"l\":0,\"b\":20,\"r\":0,\"t\":20},\"plot_bgcolor\":\"rgba(255, 255, 255, 1.000)\",\"yaxis\":{\"showticklabels\":true,\"gridwidth\":0.5,\"tickvals\":[-1.0,0.0,1.0,2.0],\"visible\":true,\"ticks\":\"inside\",\"range\":[-1.0967386514285713,2.321360365714285],\"domain\":[0.07581474190726165,0.9415463692038496],\"tickmode\":\"array\",\"linecolor\":\"rgba(0, 0, 0, 1.000)\",\"showgrid\":true,\"title\":\"\",\"mirror\":false,\"tickangle\":0,\"showline\":true,\"gridcolor\":\"rgba(0, 0, 0, 0.100)\",\"titlefont\":{\"color\":\"rgba(0, 0, 0, 1.000)\",\"family\":\"sans-serif\",\"size\":15},\"tickcolor\":\"rgb(0, 0, 0)\",\"ticktext\":[\"-1\",\"0\",\"1\",\"2\"],\"zeroline\":false,\"type\":\"-\",\"tickfont\":{\"color\":\"rgba(0, 0, 0, 1.000)\",\"family\":\"sans-serif\",\"size\":11},\"zerolinecolor\":\"rgba(0, 0, 0, 1.000)\",\"anchor\":\"x\"},\"width\":600});\n",
       "    </script>\n"
      ]
     },
     "execution_count": 6,
     "metadata": {},
     "output_type": "execute_result"
    }
   ],
   "source": [
    "pa = collect(linspace(-1,1,51))\n",
    "spa = evaluate(sp,pa)\n",
    "plot(pa,spa,color =\"purple\",linewidth=4)\n",
    "scatter!(x,y,legend=false,title=\"Spline Cúbico\",xlabel=\"x\",color =\"cyan\",grid=true)"
   ]
  },
  {
   "cell_type": "code",
   "execution_count": null,
   "metadata": {},
   "outputs": [],
   "source": []
  }
 ],
 "metadata": {
  "kernelspec": {
   "display_name": "Julia 0.6.2",
   "language": "julia",
   "name": "julia-0.6"
  },
  "language_info": {
   "file_extension": ".jl",
   "mimetype": "application/julia",
   "name": "julia",
   "version": "0.6.2"
  }
 },
 "nbformat": 4,
 "nbformat_minor": 2
}

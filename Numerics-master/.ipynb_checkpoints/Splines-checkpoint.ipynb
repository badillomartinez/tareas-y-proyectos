{
 "cells": [
  {
   "cell_type": "markdown",
   "metadata": {},
   "source": [
    "# Spline Cúbico Natural"
   ]
  },
  {
   "cell_type": "code",
   "execution_count": null,
   "metadata": {
    "scrolled": true
   },
   "outputs": [],
   "source": [
    "Pkg.add(\"Dierckx\")"
   ]
  },
  {
   "cell_type": "code",
   "execution_count": null,
   "metadata": {},
   "outputs": [],
   "source": [
    "using Dierckx"
   ]
  },
  {
   "cell_type": "markdown",
   "metadata": {},
   "source": [
    "## Ejemplo 1"
   ]
  },
  {
   "cell_type": "code",
   "execution_count": null,
   "metadata": {},
   "outputs": [],
   "source": [
    "x = [0., 1., 2., 3., 4.]\n",
    "y = [-1., 0., 7., 26., 63.]\n",
    "sp = Spline1D(x, y; w=ones(length(x)), k=3, bc=\"zero\", s=0.0);"
   ]
  },
  {
   "cell_type": "code",
   "execution_count": null,
   "metadata": {},
   "outputs": [],
   "source": [
    "pa = collect(linspace(0,4,51))\n",
    "spa = evaluate(sp,pa);"
   ]
  },
  {
   "cell_type": "code",
   "execution_count": null,
   "metadata": {},
   "outputs": [],
   "source": [
    "using Plots\n",
    "plotly()\n",
    "plot(pa,spa,color =\"purple\",linewidth=4)\n",
    "scatter!(x,y,grid=false,legend=false,title=\"Spline Cúbico\",xlabel=\"x\",color =\"cyan\")"
   ]
  },
  {
   "cell_type": "markdown",
   "metadata": {},
   "source": [
    "## Ejemplo 2"
   ]
  },
  {
   "cell_type": "code",
   "execution_count": null,
   "metadata": {},
   "outputs": [],
   "source": [
    "x = [-1.,0.,0.75,1.]\n",
    "y = [1.,2.,0.,-1.]\n",
    "sp = Spline1D(x, y; w=ones(length(x)), k=3, bc=\"zero\", s=0.0);"
   ]
  },
  {
   "cell_type": "code",
   "execution_count": null,
   "metadata": {},
   "outputs": [],
   "source": [
    "pa = collect(linspace(-1,1,51))\n",
    "spa = evaluate(sp,pa)\n",
    "plot(pa,spa,color =\"purple\",linewidth=4)\n",
    "scatter!(x,y,legend=false,title=\"Spline Cúbico\",xlabel=\"x\",color =\"cyan\",grid=true)"
   ]
  },
  {
   "cell_type": "code",
   "execution_count": null,
   "metadata": {},
   "outputs": [],
   "source": []
  }
 ],
 "metadata": {
  "kernelspec": {
   "display_name": "Julia 0.6.2",
   "language": "julia",
   "name": "julia-0.6"
  },
  "language_info": {
   "file_extension": ".jl",
   "mimetype": "application/julia",
   "name": "julia",
   "version": "0.6.2"
  }
 },
 "nbformat": 4,
 "nbformat_minor": 2
}
